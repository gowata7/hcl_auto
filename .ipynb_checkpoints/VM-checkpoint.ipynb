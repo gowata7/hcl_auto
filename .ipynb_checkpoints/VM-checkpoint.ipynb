{
 "cells": [
  {
   "cell_type": "code",
   "execution_count": 1,
   "id": "5039376f-c0bf-42c5-8b98-af793e1cc592",
   "metadata": {},
   "outputs": [],
   "source": [
    "import csv\n",
    "import time\n",
    "\n",
    "from datetime import datetime, timedelta\n",
    "from novaclient import client\n",
    "# from kafka import KafkaProducer\n",
    "import os\n",
    "\n",
    "from novaclient import client\n",
    "from keystoneauth1 import session\n",
    "from keystoneauth1.identity import v3"
   ]
  },
  {
   "cell_type": "code",
   "execution_count": 2,
   "id": "492ef224-65d7-4814-a18d-f2425e03a15a",
   "metadata": {},
   "outputs": [],
   "source": [
    "# def get_file_and_topic_names(project_name, current_date):\n",
    "    # if 'prd' in project_name.lower():\n",
    "    #     suffix = 'prd'\n",
    "    # elif 'stg' in project_name.lower():\n",
    "    #     suffix = 'stg'\n",
    "    # else:\n",
    "    #     suffix = 'prd'  # 기본적으로 'prd'로 설정\n",
    "\n",
    "def get_file_and_topic_names(current_date):\n",
    "    file_name = f'C://Beomjun//csv//eu_adminrc_{current_date}.csv'\n",
    "    # topic_name = f'EU_VM_2_{suffix.upper()}'\n",
    "    return file_name"
   ]
  },
  {
   "cell_type": "code",
   "execution_count": 3,
   "id": "22a793a7-cddc-4adf-8be3-8089741f756a",
   "metadata": {},
   "outputs": [
    {
     "name": "stdout",
     "output_type": "stream",
     "text": [
      "This project is admin\n"
     ]
    },
    {
     "ename": "NameError",
     "evalue": "name 'current_date' is not defined",
     "output_type": "error",
     "traceback": [
      "\u001b[1;31m---------------------------------------------------------------------------\u001b[0m",
      "\u001b[1;31mNameError\u001b[0m                                 Traceback (most recent call last)",
      "Cell \u001b[1;32mIn[3], line 80\u001b[0m\n\u001b[0;32m     78\u001b[0m \u001b[38;5;28;01mfor\u001b[39;00m project_name \u001b[38;5;129;01min\u001b[39;00m project_names:\n\u001b[0;32m     79\u001b[0m     \u001b[38;5;28mprint\u001b[39m(\u001b[38;5;124m\"\u001b[39m\u001b[38;5;124mThis project is\u001b[39m\u001b[38;5;124m\"\u001b[39m, project_name)\n\u001b[1;32m---> 80\u001b[0m     csv_file_path \u001b[38;5;241m=\u001b[39m \u001b[43mnova_extract\u001b[49m\u001b[43m(\u001b[49m\u001b[43mproject_name\u001b[49m\u001b[43m)\u001b[49m\n\u001b[0;32m     82\u001b[0m \u001b[38;5;66;03m# cleanup(tenants)\u001b[39;00m\n",
      "Cell \u001b[1;32mIn[3], line 17\u001b[0m, in \u001b[0;36mnova_extract\u001b[1;34m(project_name)\u001b[0m\n\u001b[0;32m     14\u001b[0m \u001b[38;5;66;03m# 모든 프로젝트 VM 가져오기\u001b[39;00m\n\u001b[0;32m     15\u001b[0m vms \u001b[38;5;241m=\u001b[39m nova\u001b[38;5;241m.\u001b[39mservers\u001b[38;5;241m.\u001b[39mlist(search_opts\u001b[38;5;241m=\u001b[39m{\u001b[38;5;124m'\u001b[39m\u001b[38;5;124mall_tenants\u001b[39m\u001b[38;5;124m'\u001b[39m: \u001b[38;5;241m1\u001b[39m})\n\u001b[1;32m---> 17\u001b[0m csv_file_path \u001b[38;5;241m=\u001b[39m get_file_and_topic_names(\u001b[43mcurrent_date\u001b[49m)\n\u001b[0;32m     18\u001b[0m \u001b[38;5;28mprint\u001b[39m(\u001b[38;5;124m\"\u001b[39m\u001b[38;5;124mcsv_file_name:\u001b[39m\u001b[38;5;124m\"\u001b[39m, csv_file_path)\n\u001b[0;32m     19\u001b[0m csv_header \u001b[38;5;241m=\u001b[39m [\u001b[38;5;124m\"\u001b[39m\u001b[38;5;124mid\u001b[39m\u001b[38;5;124m\"\u001b[39m, \u001b[38;5;124m\"\u001b[39m\u001b[38;5;124mname\u001b[39m\u001b[38;5;124m\"\u001b[39m, \u001b[38;5;124m\"\u001b[39m\u001b[38;5;124mstatus\u001b[39m\u001b[38;5;124m\"\u001b[39m, \u001b[38;5;124m\"\u001b[39m\u001b[38;5;124mflavor\u001b[39m\u001b[38;5;124m\"\u001b[39m, \u001b[38;5;124m\"\u001b[39m\u001b[38;5;124maddress\u001b[39m\u001b[38;5;124m\"\u001b[39m, \u001b[38;5;124m\"\u001b[39m\u001b[38;5;124mavailability_zone\u001b[39m\u001b[38;5;124m\"\u001b[39m, \u001b[38;5;124m\"\u001b[39m\u001b[38;5;124mhostname\u001b[39m\u001b[38;5;124m\"\u001b[39m, \u001b[38;5;124m\"\u001b[39m\u001b[38;5;124mcreated_at\u001b[39m\u001b[38;5;124m\"\u001b[39m, \u001b[38;5;124m\"\u001b[39m\u001b[38;5;124mupdated_at\u001b[39m\u001b[38;5;124m\"\u001b[39m]\n",
      "\u001b[1;31mNameError\u001b[0m: name 'current_date' is not defined"
     ]
    }
   ],
   "source": [
    "def nova_extract(project_name):\n",
    "    current_date = datetime.now().strftime(\"%Y%m%d\")\n",
    "    \n",
    "    auth = v3.Password(\n",
    "        auth_url='http://cloud-control-vip.eu-central.openstack.h53:5000/v3',\n",
    "        username='admin',\n",
    "        password='TldhTl1!',\n",
    "        user_domain_name='Default',\n",
    "        project_name='admin',\n",
    "        project_domain_name='Default'\n",
    "    )\n",
    "    \n",
    "    sess = session.Session(auth=auth)\n",
    "    nova = client.Client('2.1', session=sess)\n",
    "    \n",
    "    # 모든 프로젝트 VM 가져오기\n",
    "    vms = nova.servers.list(search_opts={'all_tenants': 1})\n",
    "\n",
    "    csv_file_path = get_file_and_topic_names(current_date)\n",
    "    print(\"csv_file_name:\", csv_file_path)\n",
    "    csv_header = [\"id\", \"name\", \"status\", \"flavor\", \"address\", \"availability_zone\", \"hostname\", \"created_at\", \"updated_at\"]\n",
    "\n",
    "    file_exists = os.path.exists(csv_file_path)\n",
    "    with open(csv_file_path, mode='a', newline='') as csv_file:\n",
    "        writer = csv.writer(csv_file)\n",
    "        if not file_exists:\n",
    "            writer.writerow(csv_header)\n",
    "\n",
    "        for vm in vms:\n",
    "            addresses_info = \"\"\n",
    "            for key, values in vm.addresses.items():\n",
    "                for addr_info in values:\n",
    "                    addresses_info += f'{key}:{addr_info[\"addr\"]}\\n'\n",
    "            addresses_info = addresses_info.strip()\n",
    "\n",
    "            flavor_id = vm.flavor['id']\n",
    "            flavor = nova.flavors.get(flavor_id)\n",
    "\n",
    "            try:\n",
    "                flavor = nova.flavors.get(flavor_id)\n",
    "                flavor_name = flavor.name\n",
    "            except Exception as e:\n",
    "                flaver_name = \"\"\n",
    "\n",
    "            vm_data = [\n",
    "                vm.id, vm.name, vm.status, flavor.name, addresses_info,\n",
    "                vm._info['OS-EXT-AZ:availability_zone'], vm._info['OS-EXT-SRV-ATTR:host'],\n",
    "                vm.created, vm.updated\n",
    "            ]\n",
    "            writer.writerow(vm_data)\n",
    "    return csv_file_path\n",
    "    \n",
    "def cleanup(tenants):\n",
    "#       schedule.run_pending()\n",
    "       time.sleep(1)\n",
    "\n",
    "       current_date = datetime.now().strftime(\"%Y%m%d\")\n",
    "       retention_period = 5\n",
    "\n",
    "       delete_date = (datetime.now() - timedelta(days=retention_period)).strftime(\"%Y%m%d\")\n",
    "\n",
    "       host_dir = './csv'\n",
    "       file_list = os.listdir(host_dir)\n",
    "\n",
    "       for tenant in tenants:\n",
    "               for file_name in file_list:\n",
    "                       if file_name.startswith(f'vm_eu_2_{tenant}_') and file_name <= f'vm_eu_2_{tenant}_{delete_date}.csv':\n",
    "                           file_path = os.path.join(host_dir, file_name)\n",
    "                           os.remove(file_path)\n",
    "                           print(\"file remove success!\")\n",
    "\n",
    "\n",
    "# 프로젝트 이름 리스트\n",
    "# project_names = ['B2C_PRD', 'B2C_STG']\n",
    "project_names = ['admin']\n",
    "# tenants = ['prd', 'stg']\n",
    "# topic_files = {}\n",
    "\n",
    "# 각 프로젝트에 대해 함수 실행\n",
    "for project_name in project_names:\n",
    "    print(\"This project is\", project_name)\n",
    "    csv_file_path = nova_extract(project_name)\n",
    "\n",
    "# cleanup(tenants)"
   ]
  },
  {
   "cell_type": "code",
   "execution_count": null,
   "id": "5949c21b-09c0-4117-bc15-f2cf3a2b2e67",
   "metadata": {},
   "outputs": [],
   "source": []
  },
  {
   "cell_type": "code",
   "execution_count": null,
   "id": "6fd7e11f-104f-40f0-adc6-e09854568c78",
   "metadata": {},
   "outputs": [],
   "source": []
  }
 ],
 "metadata": {
  "kernelspec": {
   "display_name": "Python 3 (ipykernel)",
   "language": "python",
   "name": "python3"
  },
  "language_info": {
   "codemirror_mode": {
    "name": "ipython",
    "version": 3
   },
   "file_extension": ".py",
   "mimetype": "text/x-python",
   "name": "python",
   "nbconvert_exporter": "python",
   "pygments_lexer": "ipython3",
   "version": "3.10.5"
  }
 },
 "nbformat": 4,
 "nbformat_minor": 5
}
