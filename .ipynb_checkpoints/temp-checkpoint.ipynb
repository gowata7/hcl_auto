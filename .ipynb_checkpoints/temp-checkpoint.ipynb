{
 "cells": [
  {
   "cell_type": "markdown",
   "id": "933d00fb-d963-42c0-92c4-e6c55815f1d5",
   "metadata": {
    "tags": []
   },
   "source": [
    "## 설정"
   ]
  },
  {
   "cell_type": "code",
   "execution_count": 1,
   "id": "c8efadae-7576-4e3b-92f2-66fa3dc11e83",
   "metadata": {},
   "outputs": [],
   "source": [
    "import shutil\n",
    "import datetime\n",
    "import pandas as pd\n",
    "import warnings\n",
    "import os\n",
    "warnings.filterwarnings('ignore')\n",
    "\n",
    "from chart_portal import *\n",
    "from table_portal import *\n",
    "from docx.text.run import *\n",
    "from docx.enum.text import WD_ALIGN_PARAGRAPH"
   ]
  },
  {
   "cell_type": "code",
   "execution_count": 2,
   "id": "0d48aff4-c1e6-4d89-9dd6-4811bd5e8a32",
   "metadata": {},
   "outputs": [
    {
     "data": {
      "text/plain": [
       "'C:\\\\Beomjun\\\\venv\\\\Lib\\\\site-packages\\\\docx\\\\templates\\\\default.docx'"
      ]
     },
     "execution_count": 2,
     "metadata": {},
     "output_type": "execute_result"
    }
   ],
   "source": [
    "# DRM 방지(default.docx)\n",
    "def findfile(name, path):\n",
    "    for dirpath, dirname, filename in os.walk(path):\n",
    "        if name in filename:\n",
    "            return os.path.join(dirpath, name)\n",
    "\n",
    "file_path=os.path.abspath(\"\")\n",
    "srcpath = findfile(\"default.docx.org\", file_path)\n",
    "dir, file = os.path.split(srcpath)\n",
    "shutil.copy2(srcpath, dir+\"\\default.docx\")"
   ]
  },
  {
   "cell_type": "code",
   "execution_count": 3,
   "id": "88b4d438-6834-463a-b2c3-a11208aa34b8",
   "metadata": {},
   "outputs": [],
   "source": [
    "from document_portal import *\n",
    "# report version\n",
    "rtype = '월간' # 연간, 반기"
   ]
  },
  {
   "cell_type": "code",
   "execution_count": 4,
   "id": "37a93145-1415-4833-951b-8826f72827a9",
   "metadata": {
    "tags": []
   },
   "outputs": [],
   "source": [
    "# 메타 정보\n",
    "\n",
    "today = datetime.date.today()\n",
    "\n",
    "y = today.year\n",
    "m = today.month\n",
    "d = today.day\n",
    "w = today.weekday()\n",
    "\n",
    "v = '1'\n",
    "\n",
    "# if region == 'All':\n",
    "#     regex = '(KR|CN|NA|EU|SG|RU|IN|Global|All)'\n",
    "# else:\n",
    "#     regex = region"
   ]
  },
  {
   "cell_type": "code",
   "execution_count": 5,
   "id": "b5709036-4009-4e70-80bd-ab467bc9957f",
   "metadata": {},
   "outputs": [],
   "source": [
    "# Document 기본 폰트\n",
    "style = document.styles['Normal']\n",
    "# style.font.name = '맑은고딕'\n",
    "style.font.name = 'Calibri'\n",
    "style.font.size = Pt(12)\n",
    "# style._element.rPr.rFonts.set(qn('w:eastAsia'), '맑은고딕')\n",
    "style._element.rPr.rFonts.set(qn('w:eastAsia'), 'Calibri')"
   ]
  },
  {
   "cell_type": "code",
   "execution_count": 6,
   "id": "ad05315f-0d46-4c5c-9412-678c7531f292",
   "metadata": {},
   "outputs": [
    {
     "data": {
      "text/plain": [
       "ThemeRegistry.enable('맑은고딕')"
      ]
     },
     "execution_count": 6,
     "metadata": {},
     "output_type": "execute_result"
    }
   ],
   "source": [
    "# Chart 기본 폰트\n",
    "alt.themes.register('맑은고딕', hanfont)\n",
    "alt.themes.enable('맑은고딕')"
   ]
  },
  {
   "cell_type": "markdown",
   "id": "ff0372e2-88a4-4e73-84a1-b54150c52c90",
   "metadata": {},
   "source": [
    "## VM 집계"
   ]
  },
  {
   "cell_type": "code",
   "execution_count": 7,
   "id": "a1981d46-2e26-4947-9fb1-6f845cd27163",
   "metadata": {
    "execution": {
     "iopub.execute_input": "2025-05-27T13:52:25.103067Z",
     "iopub.status.busy": "2025-05-27T13:52:25.102070Z",
     "iopub.status.idle": "2025-05-27T13:52:26.339243Z",
     "shell.execute_reply": "2025-05-27T13:52:26.338246Z"
    }
   },
   "outputs": [],
   "source": [
    "import time\n",
    "from datetime import datetime, timedelta\n",
    "from novaclient import client\n",
    "import pandas as pd\n",
    "\n",
    "import os\n",
    "from novaclient import client\n",
    "from keystoneauth1 import session\n",
    "from keystoneauth1.identity import v3\n",
    "from odf.opendocument import OpenDocumentSpreadsheet\n",
    "from odf.table import Table, TableRow, TableCell\n",
    "from odf.text import P\n",
    "from keystoneclient.v3 import client as keystone_client"
   ]
  },
  {
   "cell_type": "code",
   "execution_count": 8,
   "id": "d8684a6c-cc41-4651-9b29-6713ad4c4a6e",
   "metadata": {
    "execution": {
     "iopub.execute_input": "2025-05-27T13:52:26.344227Z",
     "iopub.status.busy": "2025-05-27T13:52:26.343229Z",
     "iopub.status.idle": "2025-05-27T13:52:26.370766Z",
     "shell.execute_reply": "2025-05-27T13:52:26.368771Z"
    }
   },
   "outputs": [],
   "source": [
    "def create_ods_file(file_path, header, data_rows):\n",
    "    print(\" ODS 파일 생성 시작...\")\n",
    "\n",
    "    # Windows 경로 맞춤 설정\n",
    "    file_path = file_path.replace(\"/\", \"\\\\\")\n",
    "\n",
    "    #  만약 동일한 파일이 있으면 삭제\n",
    "    if os.path.exists(file_path):\n",
    "        os.remove(file_path)\n",
    "\n",
    "    #  ODS Document 생성\n",
    "    doc = OpenDocumentSpreadsheet()\n",
    "    table = Table(name=\"VM_Data\")\n",
    "\n",
    "    #  Header 추가\n",
    "    print(f\"📝 Header 추가 중: {header}\")\n",
    "    header_row = TableRow()\n",
    "    for column_name in header:\n",
    "        cell = TableCell()\n",
    "        # 👉 value-type을 string으로 명시\n",
    "        cell.setAttribute(\"valuetype\", \"string\")\n",
    "        cell.addElement(P(text=str(column_name)))\n",
    "        header_row.addElement(cell)\n",
    "    table.addElement(header_row)\n",
    "\n",
    "    #  Data 추가\n",
    "    print(f\"📝 총 {len(data_rows)}개의 데이터가 추가됩니다.\")\n",
    "    for idx, row in enumerate(data_rows):\n",
    "        # print(f\"➡️ [{idx+1}/{len(data_rows)}] {row}\")\n",
    "        row_element = TableRow()\n",
    "        for cell_data in row:\n",
    "            if cell_data is None:\n",
    "                cell_data = \"\"\n",
    "            cell = TableCell()\n",
    "            cell.setAttribute(\"valuetype\", \"string\")\n",
    "            cell.addElement(P(text=str(cell_data)))\n",
    "            row_element.addElement(cell)\n",
    "        table.addElement(row_element)\n",
    "\n",
    "    # Table을 Spreadsheet에 추가\n",
    "    print(f\"💾 Spreadsheet에 Table 추가\")\n",
    "    doc.spreadsheet.addElement(table)\n",
    "\n",
    "    #  파일 직접 쓰기\n",
    "    print(f\"💾 ODS 파일 쓰기 시작... {file_path}\")\n",
    "    try:\n",
    "        with open(file_path, \"wb\") as f:\n",
    "            doc.write(f)      # 명시적으로 write 수행\n",
    "            f.flush()         # 버퍼에 남아있는 내용 비우기\n",
    "        print(f\"✅ ODS 파일 생성 완료: {file_path}\")\n",
    "    except Exception as e:\n",
    "        print(f\"❌ 파일 저장 실패: {e}\")\n",
    "\n",
    "\n",
    "\n",
    "# 파일명 생성 함수\n",
    "def get_file_and_topic_names(current_date):\n",
    "    file_name = f'C:\\\\Beomjun\\\\csv\\\\VM\\\\vm_info_{current_date}.ods'\n",
    "    return file_name"
   ]
  },
  {
   "cell_type": "code",
   "execution_count": 9,
   "id": "c3caa27f-535e-4dce-aea2-fc63f96b54d2",
   "metadata": {
    "execution": {
     "iopub.execute_input": "2025-05-27T13:52:26.376743Z",
     "iopub.status.busy": "2025-05-27T13:52:26.375746Z",
     "iopub.status.idle": "2025-05-27T13:52:26.401079Z",
     "shell.execute_reply": "2025-05-27T13:52:26.399266Z"
    }
   },
   "outputs": [],
   "source": [
    "def nova_extract(project_name):\n",
    "    current_date = datetime.now().strftime(\"%Y%m%d\")\n",
    "\n",
    "    auth = v3.Password(\n",
    "        auth_url='http://cloud-control-vip.eu-central.openstack.h53:5000/v3',\n",
    "        username='admin',\n",
    "        password='TldhTl1!',\n",
    "        user_domain_name='Default',\n",
    "        project_name='admin',\n",
    "        project_domain_name='Default'\n",
    "    )\n",
    "\n",
    "    sess = session.Session(auth=auth)\n",
    "    nova = client.Client('2.1', session=sess)\n",
    "\n",
    "    # 모든 프로젝트 VM 가져오기\n",
    "    vms = nova.servers.list(search_opts={'all_tenants': 1})\n",
    "\n",
    "    # 프로젝트 리스트\n",
    "    keystone = keystone_client.Client(session=sess)\n",
    "    projects = keystone.projects.list()\n",
    "    project_map = {p.id: p.name for p in projects}  # id → name 맵 생성\n",
    "    \n",
    "    ods_file_path = get_file_and_topic_names(current_date)\n",
    "    print(\"ODS 파일명:\", ods_file_path)\n",
    "    \n",
    "    ods_header = [\"project_id\", \"id\", \"name\", \"status\", \"flavor\", \"address\", \"availability_zone\", \"hostname\", \"created_at\", \"updated_at\"]\n",
    "    data_rows = []\n",
    "\n",
    "    for vm in vms:\n",
    "        project_name = project_map.get(vm._info.get('tenant_id'), \"unknown\")\n",
    "        \n",
    "        addresses_info = \"\"\n",
    "        for key, values in vm.addresses.items():\n",
    "            for addr_info in values:\n",
    "                addresses_info += f'{key}:{addr_info[\"addr\"]}\\n'\n",
    "        addresses_info = addresses_info.strip()\n",
    "\n",
    "        flavor_id = vm.flavor['id']\n",
    "        flavor = nova.flavors.get(flavor_id)\n",
    "\n",
    "        try:\n",
    "            flavor = nova.flavors.get(flavor_id)\n",
    "            flavor_name = flavor.name\n",
    "        except Exception as e:\n",
    "            flavor_name = \"\"\n",
    "\n",
    "        vm_data = [\n",
    "            project_name, vm.id, vm.name, vm.status, flavor_name, addresses_info,\n",
    "            vm._info['OS-EXT-AZ:availability_zone'], vm._info['OS-EXT-SRV-ATTR:host'],\n",
    "            vm.created, vm.updated\n",
    "        ]\n",
    "        data_rows.append(vm_data)\n",
    "        # print(\"data!\", vm_data)\n",
    "\n",
    "    \n",
    "    # print(\"data_rows!\", data_rows)\n",
    "    # ODS 파일 생성\n",
    "    create_ods_file(ods_file_path, ods_header, data_rows)\n",
    "    return ods_file_path"
   ]
  },
  {
   "cell_type": "code",
   "execution_count": 10,
   "id": "38439659-ea69-4d05-944f-5e1745977913",
   "metadata": {
    "execution": {
     "iopub.execute_input": "2025-05-27T13:52:26.406062Z",
     "iopub.status.busy": "2025-05-27T13:52:26.406062Z",
     "iopub.status.idle": "2025-05-27T13:54:26.438493Z",
     "shell.execute_reply": "2025-05-27T13:54:26.437567Z"
    },
    "scrolled": true
   },
   "outputs": [
    {
     "name": "stdout",
     "output_type": "stream",
     "text": [
      "This project is admin\n"
     ]
    },
    {
     "name": "stdout",
     "output_type": "stream",
     "text": [
      "ODS 파일명: C:\\Beomjun\\csv\\VM\\vm_info_20250527.ods\n"
     ]
    },
    {
     "name": "stdout",
     "output_type": "stream",
     "text": [
      " ODS 파일 생성 시작...\n",
      "📝 Header 추가 중: ['project_id', 'id', 'name', 'status', 'flavor', 'address', 'availability_zone', 'hostname', 'created_at', 'updated_at']\n",
      "📝 총 2038개의 데이터가 추가됩니다.\n"
     ]
    },
    {
     "name": "stdout",
     "output_type": "stream",
     "text": [
      "💾 Spreadsheet에 Table 추가\n",
      "💾 ODS 파일 쓰기 시작... C:\\Beomjun\\csv\\VM\\vm_info_20250527.ods\n"
     ]
    },
    {
     "name": "stdout",
     "output_type": "stream",
     "text": [
      "✅ ODS 파일 생성 완료: C:\\Beomjun\\csv\\VM\\vm_info_20250527.ods\n"
     ]
    }
   ],
   "source": [
    "# 오래된 파일 정리\n",
    "def cleanup(tenants):\n",
    "    time.sleep(1)\n",
    "    current_date = datetime.now().strftime(\"%Y%m%d\")\n",
    "    retention_period = 5\n",
    "    delete_date = (datetime.now() - timedelta(days=retention_period)).strftime(\"%Y%m%d\")\n",
    "    host_dir = 'C://Beomjun//csv//'\n",
    "    file_list = os.listdir(host_dir)\n",
    "\n",
    "    for tenant in tenants:\n",
    "        for file_name in file_list:\n",
    "            if file_name.startswith(f'vm_eu2_{tenant}_') and file_name <= f'vm_eu2_{tenant}_{delete_date}.ods':\n",
    "                file_path = os.path.join(host_dir, file_name)\n",
    "                os.remove(file_path)\n",
    "                print(\"file remove success!\")\n",
    "\n",
    "project_names = ['admin']\n",
    "tenants = ['adminrc']\n",
    "\n",
    "# 각 프로젝트에 대해 함수 실행\n",
    "for project_name in project_names:\n",
    "    print(\"This project is\", project_name)\n",
    "    ods_file_path = nova_extract(project_name)\n",
    "    # ods_file_path = nova_extract_admin(project_name)\n",
    "\n",
    "# cleanup(tenants)"
   ]
  },
  {
   "cell_type": "code",
   "execution_count": 11,
   "id": "d3201a0e-329a-4bbe-9f09-559cea0a9306",
   "metadata": {
    "execution": {
     "iopub.execute_input": "2025-05-27T13:54:26.444473Z",
     "iopub.status.busy": "2025-05-27T13:54:26.443476Z",
     "iopub.status.idle": "2025-05-27T13:54:29.967938Z",
     "shell.execute_reply": "2025-05-27T13:54:29.967262Z"
    },
    "scrolled": true
   },
   "outputs": [
    {
     "name": "stdout",
     "output_type": "stream",
     "text": [
      "today: 20250527\n",
      "yesterday: 20250526\n"
     ]
    }
   ],
   "source": [
    "# 날짜 설정\n",
    "current_date = datetime.now().strftime(\"%Y%m%d\")\n",
    "yesterday_date = (datetime.now() - timedelta(days=1)).strftime(\"%Y%m%d\")\n",
    "\n",
    "print(\"today:\", current_date)\n",
    "print(\"yesterday:\", yesterday_date)\n",
    "\n",
    "# 경로 설정\n",
    "today_path = f\"C:\\\\Beomjun\\\\csv\\\\VM\\\\vm_info_{current_date}.ods\"\n",
    "yesterday_path = f\"C:\\\\Beomjun\\\\csv\\\\VM\\\\vm_info_{yesterday_date}.ods\"\n",
    "\n",
    "# file_path=os.path.abspath(\"\")\n",
    "# srcpath = findfile(f\"eu_adminrc_{yesterday_date}.csv.org\", file_path)\n",
    "# dir, file = os.path.split(srcpath)\n",
    "# shutil.copy2(srcpath, dir+f\"\\eu_adminrc_{yesterday_date}.csv\")\n",
    "    \n",
    "# CSV 로드\n",
    "df_today = pd.read_excel(today_path, engine='odf')\n",
    "df_yesterday = pd.read_excel(yesterday_path, engine='odf')"
   ]
  },
  {
   "cell_type": "code",
   "execution_count": 12,
   "id": "9e3d1e6e-9930-40d2-a768-cc2cd315af47",
   "metadata": {
    "execution": {
     "iopub.execute_input": "2025-05-27T13:54:29.972928Z",
     "iopub.status.busy": "2025-05-27T13:54:29.972928Z",
     "iopub.status.idle": "2025-05-27T13:54:30.015370Z",
     "shell.execute_reply": "2025-05-27T13:54:30.013414Z"
    }
   },
   "outputs": [
    {
     "name": "stdout",
     "output_type": "stream",
     "text": [
      "\n",
      "✅ 오늘 추가된 VM:\n",
      "Empty DataFrame\n",
      "Columns: [project_id, id, name, status, flavor, address, availability_zone, hostname, created_at, updated_at]\n",
      "Index: []\n",
      "\n",
      "❌ 오늘 삭제된 VM:\n",
      "                                       id  \\\n",
      "64   2372dd6a-205f-4cba-a1c2-40710630bc64   \n",
      "117  80125cad-cd4d-47de-bc1a-0193b3e2e92d   \n",
      "118  aeeb649f-a2b5-4975-97d5-5c840d5a0f1a   \n",
      "121  18a75f9e-ad62-4a90-b7e8-113b148e65f1   \n",
      "123  1a6f516f-5f02-4866-a156-6aab9e5d12ea   \n",
      "124  a387e76f-f4b7-43d8-8939-b8176985ecc8   \n",
      "125  822121e9-c96f-4a2e-b238-388185bf70ad   \n",
      "126  af802e60-4f17-4d26-9b55-8dba42dfa190   \n",
      "\n",
      "                                        name   status                 flavor  \\\n",
      "64          EUTest.e55d277c.eu-central-1.stg  SHUTOFF  4vCPU_RAM8GB_Disk50GB   \n",
      "117     FR7-STG-BS.69aa4560.eu-central-2.stg   ACTIVE  1vCPU_RAM2GB_Disk50GB   \n",
      "118     FR2-STG-BS.3b714a5e.eu-central-1.stg   ACTIVE  1vCPU_RAM2GB_Disk50GB   \n",
      "121  FR2-STG-TEST3.5bac98f4.eu-central-1.stg   ACTIVE  1vCPU_RAM2GB_Disk50GB   \n",
      "123  FR7-STG-TEST2.345be6b5.eu-central-2.stg   ACTIVE  1vCPU_RAM2GB_Disk50GB   \n",
      "124  FR7-STG-TEST1.ce4f5509.eu-central-2.stg   ACTIVE  1vCPU_RAM2GB_Disk50GB   \n",
      "125  FR2-STG-TEST2.8dd0d391.eu-central-1.stg   ACTIVE  1vCPU_RAM2GB_Disk50GB   \n",
      "126  FR2-STG-TEST1.943075b5.eu-central-1.stg   ACTIVE  1vCPU_RAM2GB_Disk50GB   \n",
      "\n",
      "                                               address  \\\n",
      "64                       eu-central-stg-c:172.28.98.27   \n",
      "117                      eu-central-stg-c:172.30.98.20   \n",
      "118                     eu-central-stg-c:172.28.98.173   \n",
      "121  eu-central-stg-c:172.28.98.61\\neu-central-stg-...   \n",
      "123                     eu-central-stg-c:172.30.100.71   \n",
      "124                      eu-central-stg-c:172.30.98.60   \n",
      "125                     eu-central-stg-c:172.28.100.67   \n",
      "126  eu-central-stg-c:172.28.98.253\\neu-central-stg...   \n",
      "\n",
      "            availability_zone                                  hostname  \\\n",
      "64      EU-CENTRAL-1-STG-0305  eu101-com06-0305.eu-central-1.hcloud.h53   \n",
      "117  EU-CENTRAL-2-STG-0107-G2                       eu201-comstg10-0107   \n",
      "118  EU-CENTRAL-1-STG-0305-G2                       eu101-comstg10-0305   \n",
      "121     EU-CENTRAL-1-STG-0305  eu101-com09-0305.eu-central-1.hcloud.h53   \n",
      "123     EU-CENTRAL-2-STG-0108  eu201-com05-0108.eu-central-2.hcloud.h53   \n",
      "124     EU-CENTRAL-2-STG-0107  eu201-com05-0107.eu-central-2.hcloud.h53   \n",
      "125     EU-CENTRAL-1-STG-0405  eu101-com05-0405.eu-central-1.hcloud.h53   \n",
      "126     EU-CENTRAL-1-STG-0305  eu101-com09-0305.eu-central-1.hcloud.h53   \n",
      "\n",
      "               created_at            updated_at  \n",
      "64   2025-04-08T02:16:36Z  2025-05-16T01:57:19Z  \n",
      "117  2025-01-15T00:25:26Z  2025-01-15T00:27:45Z  \n",
      "118  2025-01-15T00:25:06Z  2025-01-15T00:27:36Z  \n",
      "121  2025-01-13T06:11:03Z  2025-01-13T06:13:03Z  \n",
      "123  2025-01-10T05:23:47Z  2025-01-12T23:37:48Z  \n",
      "124  2025-01-10T05:22:52Z  2025-01-14T01:04:37Z  \n",
      "125  2025-01-10T05:21:50Z  2025-01-12T23:37:49Z  \n",
      "126  2025-01-10T05:20:49Z  2025-01-14T01:51:58Z  \n"
     ]
    }
   ],
   "source": [
    "# ID 기준으로 차집합 연산\n",
    "today_ids = set(df_today['id'])\n",
    "yesterday_ids = set(df_yesterday['id'])\n",
    "\n",
    "# 추가된 VM: 오늘에는 있고 어제는 없던 것\n",
    "added_ids = today_ids - yesterday_ids\n",
    "df_added = df_today[df_today['id'].isin(added_ids)]\n",
    "\n",
    "# 삭제된 VM: 어제는 있었는데 오늘은 없는 것\n",
    "deleted_ids = yesterday_ids - today_ids\n",
    "df_deleted = df_yesterday[df_yesterday['id'].isin(deleted_ids)]\n",
    "\n",
    "# 결과 출력\n",
    "print(\"\\n✅ 오늘 추가된 VM:\")\n",
    "print(df_added)\n",
    "\n",
    "print(\"\\n❌ 오늘 삭제된 VM:\")\n",
    "print(df_deleted)"
   ]
  },
  {
   "cell_type": "code",
   "execution_count": 13,
   "id": "6079216e-658d-4c68-a45d-99017fe1f892",
   "metadata": {
    "execution": {
     "iopub.execute_input": "2025-05-27T13:54:30.020360Z",
     "iopub.status.busy": "2025-05-27T13:54:30.019364Z",
     "iopub.status.idle": "2025-05-27T13:54:30.051869Z",
     "shell.execute_reply": "2025-05-27T13:54:30.049880Z"
    },
    "scrolled": true
   },
   "outputs": [
    {
     "data": {
      "text/plain": [
       "<docx.text.paragraph.Paragraph at 0x1cf93b12f50>"
      ]
     },
     "execution_count": 13,
     "metadata": {},
     "output_type": "execute_result"
    }
   ],
   "source": [
    "# for style in document.styles:\n",
    "#     print(style.name)\n",
    "\n",
    "document.add_heading('VM 현황', level=1) \n",
    "total = len(df_today)\n",
    "\n",
    "document.add_paragraph(f'총 {total}건', style='List Bullet')"
   ]
  },
  {
   "cell_type": "code",
   "execution_count": 14,
   "id": "1bbee72f-cb90-43ac-8d22-a6547c357b3d",
   "metadata": {
    "execution": {
     "iopub.execute_input": "2025-05-27T13:54:30.057848Z",
     "iopub.status.busy": "2025-05-27T13:54:30.056852Z",
     "iopub.status.idle": "2025-05-27T13:54:33.767437Z",
     "shell.execute_reply": "2025-05-27T13:54:33.766447Z"
    }
   },
   "outputs": [
    {
     "name": "stdout",
     "output_type": "stream",
     "text": [
      "    Region    합계    비중\n",
      "0      FR2  1089  53.4\n",
      "1      FR7   945  46.4\n",
      "2  Unknown     4   0.2\n",
      "    Tenant    합계    비중\n",
      "0      PRD  1131  55.5\n",
      "1      STG   903  44.3\n",
      "2  Unknown     4   0.2\n"
     ]
    },
    {
     "data": {
      "text/plain": [
       "<docx.shape.InlineShape at 0x1cf959760b0>"
      ]
     },
     "execution_count": 14,
     "metadata": {},
     "output_type": "execute_result"
    }
   ],
   "source": [
    "# Pivoting\n",
    "df = preprocess_df(df_today)\n",
    "# pivot, total = getPivotTable(df, month)\n",
    "\n",
    "# Chart - Pie 차트\n",
    "region_pivot, _ = getPivotTable_new(df, 'Region')\n",
    "tenant_pivot, _ = getPivotTable_new(df, 'Tenant')\n",
    "\n",
    "source1 = region_pivot\n",
    "source2 = tenant_pivot\n",
    "\n",
    "print(source1)\n",
    "print(source2)\n",
    "\n",
    "# Chart\n",
    "# if incompleted == 0:\n",
    "chart1 = getPieChart_region(source1)\n",
    "chart2 = getPieChart_tenant(source2)\n",
    "# else:\n",
    "#     source = flatten_2d(data)\n",
    "#     chart = getStackedHBarChart(source)    \n",
    "\n",
    "# source = pivot\n",
    "# if incompleted == 0:\n",
    "#     chart = getPieChart(source)\n",
    "# else:\n",
    "#     chart = getStackedHBarChart1(source)\n",
    "chart1.save(f'./charts/vm_1.png')\n",
    "chart2.save(f'./charts/vm_2.png')\n",
    "\n",
    "table = document.add_table(rows=1, cols=2)\n",
    "\n",
    "# ----------- 좌측 셀 (리전별) ------------\n",
    "cell = table.rows[0].cells[0]\n",
    "paragraph = cell.paragraphs[0]\n",
    "paragraph.alignment = WD_ALIGN_PARAGRAPH.CENTER  # 수평 중앙 정렬\n",
    "run = paragraph.add_run(\"리전별\")\n",
    "run.font.size = Pt(12)  # 폰트 크기 조절 (선택)\n",
    "run.bold = True  # 굵게 (선택)\n",
    "\n",
    "# 이미지 추가 (별도 문단 생성하여 아래로 정렬되게)\n",
    "paragraph_img = cell.add_paragraph()\n",
    "paragraph_img.alignment = WD_ALIGN_PARAGRAPH.CENTER\n",
    "run_img = paragraph_img.add_run()\n",
    "run_img.add_picture('./charts/vm_1.png', width=Inches(3.3))\n",
    "\n",
    "# ----------- 우측 셀 (테넌트별) ------------\n",
    "cell = table.rows[0].cells[1]\n",
    "paragraph = cell.paragraphs[0]\n",
    "paragraph.alignment = WD_ALIGN_PARAGRAPH.CENTER\n",
    "run = paragraph.add_run(\"테넌트별\")\n",
    "run.font.size = Pt(12)\n",
    "run.bold = True\n",
    "\n",
    "paragraph_img = cell.add_paragraph()\n",
    "paragraph_img.alignment = WD_ALIGN_PARAGRAPH.CENTER\n",
    "run_img = paragraph_img.add_run()\n",
    "run_img.add_picture('./charts/vm_2.png', width=Inches(3.3))\n",
    "\n",
    "# table = document.add_table(rows=1, cols=2)\n",
    "# # --- get the first cell of the first row ---\n",
    "# cell = table.rows[0].cells[0]\n",
    "# # --- by default a cell has one paragraph with zero runs ---\n",
    "# paragraph = cell.paragraphs[0]\n",
    "# # --- add a run in which to place the picture ---\n",
    "# run = paragraph.add_run()\n",
    "# # --- add the picture to that run ---\n",
    "# run.add_text(\"{0:^42}리전별\".format(''))\n",
    "# run.add_picture(f'./charts/vm_1.png', width=Inches(3.3))\n",
    "# cell = table.rows[0].cells[1]\n",
    "# # --- by default a cell has one paragraph with zero runs ---\n",
    "# paragraph = cell.paragraphs[0]\n",
    "# # --- add a run in which to place the picture ---\n",
    "# run = paragraph.add_run()\n",
    "# # --- add the picture to that run ---\n",
    "# run.add_text(\"{0:^42}테넌트별\".format(''))\n",
    "# run.add_picture(f'./charts/vm_2.png', width=Inches(3.3))"
   ]
  },
  {
   "cell_type": "code",
   "execution_count": 15,
   "id": "f80d612d-bd45-4362-9317-8c7eaa0a1a6c",
   "metadata": {
    "execution": {
     "iopub.execute_input": "2025-05-27T13:54:33.771423Z",
     "iopub.status.busy": "2025-05-27T13:54:33.770434Z",
     "iopub.status.idle": "2025-05-27T13:54:33.797426Z",
     "shell.execute_reply": "2025-05-27T13:54:33.796603Z"
    }
   },
   "outputs": [
    {
     "data": {
      "text/plain": [
       "<docx.text.paragraph.Paragraph at 0x1cf98e3bb20>"
      ]
     },
     "execution_count": 15,
     "metadata": {},
     "output_type": "execute_result"
    }
   ],
   "source": [
    "# document.add_paragraph(f'월별 추세', style='List Bullet')\n",
    "# document.add_picture(f'./charts/cpm_{regions}_{y}_{m}_{d}_2.png')\n",
    "\n",
    "# Document\n",
    "document.add_paragraph(f'전일 대비 추가된 VM({len(df_added)}건)', style='List Bullet')\n",
    "# A-B (삭제된 건)\n",
    "# df_result_sub = pd.concat([df_premonth,df_curmonth,df_curmonth]).drop_duplicates(keep=False)\n",
    "# print(df_result_sub)\n",
    "\n",
    "if len(df_added) == 0:\n",
    "    pass\n",
    "else:\n",
    "    addTable3(df_added)\n",
    "    \n",
    "p = document.add_paragraph('')\n",
    "run = p.add_run()\n",
    "run.add_break(WD_BREAK.LINE)\n",
    "\n",
    "document.add_paragraph(f'전일 대비 삭제된 VM({len(df_deleted)}건)', style='List Bullet')\n",
    "# A-B (삭제된 건)\n",
    "# df_result_sub = pd.concat([df_premonth,df_curmonth,df_curmonth]).drop_duplicates(keep=False)\n",
    "# print(df_result_sub)\n",
    "\n",
    "if len(df_deleted) == 0:\n",
    "    pass\n",
    "else:\n",
    "    addTable3(df_deleted)\n",
    "\n",
    "document.add_paragraph(f'금주 삭제/추가된 VM({len(df_deleted)}건)', style='List Bullet')\n",
    "\n",
    "\n",
    "document.add_page_break()"
   ]
  },
  {
   "cell_type": "code",
   "execution_count": 7,
   "id": "9ec5312e-8e4c-44ed-aff0-afe276b82be8",
   "metadata": {},
   "outputs": [],
   "source": [
    "import psycopg2\n",
    "from psycopg2.extras import RealDictCursor\n",
    "from datetime import datetime, timedelta\n",
    "\n",
    "#0 - 월요일, 12345, 6 - 일요일\n",
    "# def is_monday():\n",
    "#     return datetime.now().weekday() == 2  # 월요일이면 True 반환\n",
    "\n",
    "def get_this_week_range():\n",
    "    today = datetime.now()\n",
    "    start = today - timedelta(days=today.weekday())  # 월요일\n",
    "    end = start + timedelta(days=6)  # 일요일\n",
    "    return start.date(), end.date()\n",
    "\n",
    "def fetch_weekly_added_vms():\n",
    "    start_date, end_date = get_this_week_range()\n",
    "    conn = psycopg2.connect(\n",
    "        dbname=\"postgres\",\n",
    "        user=\"postgres\",\n",
    "        password=\"1234\",\n",
    "        host=\"localhost\",\n",
    "        port=\"5432\"\n",
    "    )\n",
    "    with conn.cursor(cursor_factory=RealDictCursor) as cur:\n",
    "        cur.execute(\"\"\"\n",
    "            SELECT \n",
    "                project_id, instance_name, flavor, address, availability_zone, hostname,\n",
    "                make_date(year::int, month::int, day::int) AS date\n",
    "            FROM added_instances\n",
    "            WHERE make_date(year::int, month::int, day::int) BETWEEN %s AND %s\n",
    "            ORDER BY date;\n",
    "        \"\"\", (start_date, end_date))\n",
    "        rows = cur.fetchall()\n",
    "    conn.close()\n",
    "    return rows"
   ]
  },
  {
   "cell_type": "code",
   "execution_count": 8,
   "id": "90317553-ec54-4bca-8bd4-c56548c097eb",
   "metadata": {},
   "outputs": [
    {
     "name": "stdout",
     "output_type": "stream",
     "text": [
      "weekly_vms:    project_id                                   instance_name  \\\n",
      "0     B2C_PRD  vdh-ksr-local-prd-01.5a541e77.eu-central-1.prd   \n",
      "1     B2C_PRD  vdh-ksr-local-prd-02.700e3dc2.eu-central-1.prd   \n",
      "2     B2C_STG   vdsp-kafka-sr-local.0600d56b.eu-central-1.stg   \n",
      "3     B2C_STG          upgradebgrrke2-e2a2-m00-3f51d682-gt6wv   \n",
      "4     B2C_STG          upgradebgrrke2-e2a2-m01-92345808-8lj5x   \n",
      "5     B2C_STG          upgradebgrrke2-e2a2-m00-3f51d682-hsfhk   \n",
      "6     B2C_STG          upgradebgrrke2-e2a2-w00-ffe0eb34-r6kzc   \n",
      "7     B2C_STG                                         master3   \n",
      "8     B2C_STG                                         master2   \n",
      "9     B2C_STG                                         master1   \n",
      "10    B2C_STG                                         worker1   \n",
      "11    B2C_STG                    bgr-new-1d70-m00-7mnvm-dr7j8   \n",
      "12    B2C_STG                    bgr-new-1d70-w00-q5bwk-gxgkg   \n",
      "13    B2C_STG                                         worker2   \n",
      "\n",
      "                    flavor                          address  \\\n",
      "0    2vCPU_RAM4GB_Disk50GB   eu-central-prd-a:172.29.66.232   \n",
      "1    2vCPU_RAM4GB_Disk50GB    eu-central-prd-a:172.29.66.96   \n",
      "2    2vCPU_RAM4GB_Disk50GB   eu-central-stg-a:172.28.70.250   \n",
      "3   8vCPU_RAM32GB_Disk50GB  eu-central-stg-c:172.28.100.195   \n",
      "4   8vCPU_RAM32GB_Disk50GB  eu-central-stg-c:172.30.100.196   \n",
      "5   8vCPU_RAM32GB_Disk50GB  eu-central-stg-c:172.28.100.232   \n",
      "6   8vCPU_RAM32GB_Disk50GB  eu-central-stg-c:172.30.100.134   \n",
      "7   8vCPU_RAM32GB_Disk50GB   eu-central-stg-a:172.30.72.105   \n",
      "8   8vCPU_RAM32GB_Disk50GB   eu-central-stg-a:172.28.72.172   \n",
      "9   8vCPU_RAM32GB_Disk50GB   eu-central-stg-a:172.28.72.113   \n",
      "10  8vCPU_RAM32GB_Disk50GB   eu-central-stg-a:172.28.70.241   \n",
      "11  8vCPU_RAM32GB_Disk50GB   eu-central-stg-c:172.30.100.60   \n",
      "12  8vCPU_RAM32GB_Disk50GB  eu-central-stg-c:172.28.100.201   \n",
      "13  8vCPU_RAM32GB_Disk50GB   eu-central-stg-a:172.28.70.190   \n",
      "\n",
      "           availability_zone                                  hostname  \\\n",
      "0   EU-CENTRAL-1-PRD-0201-G2                       eu101-comprd15-0201   \n",
      "1   EU-CENTRAL-1-PRD-0201-G2                       eu101-comprd15-0201   \n",
      "2      EU-CENTRAL-1-STG-0305  eu101-com05-0305.eu-central-1.hcloud.h53   \n",
      "3      EU-CENTRAL-1-STG-0405  eu101-com06-0405.eu-central-1.hcloud.h53   \n",
      "4      EU-CENTRAL-2-STG-0108  eu201-com05-0108.eu-central-2.hcloud.h53   \n",
      "5      EU-CENTRAL-1-STG-0405  eu101-com06-0405.eu-central-1.hcloud.h53   \n",
      "6      EU-CENTRAL-2-STG-0108  eu201-com05-0108.eu-central-2.hcloud.h53   \n",
      "7      EU-CENTRAL-2-STG-0108  eu201-com05-0108.eu-central-2.hcloud.h53   \n",
      "8      EU-CENTRAL-1-STG-0405  eu101-com05-0405.eu-central-1.hcloud.h53   \n",
      "9      EU-CENTRAL-1-STG-0405  eu101-com04-0405.eu-central-1.hcloud.h53   \n",
      "10     EU-CENTRAL-1-STG-0305  eu101-com06-0305.eu-central-1.hcloud.h53   \n",
      "11     EU-CENTRAL-2-STG-0108  eu201-com06-0108.eu-central-2.hcloud.h53   \n",
      "12     EU-CENTRAL-1-STG-0405  eu101-com06-0405.eu-central-1.hcloud.h53   \n",
      "13     EU-CENTRAL-1-STG-0305  eu101-com06-0305.eu-central-1.hcloud.h53   \n",
      "\n",
      "          date  \n",
      "0   2025-06-09  \n",
      "1   2025-06-09  \n",
      "2   2025-06-09  \n",
      "3   2025-06-09  \n",
      "4   2025-06-09  \n",
      "5   2025-06-09  \n",
      "6   2025-06-09  \n",
      "7   2025-06-09  \n",
      "8   2025-06-09  \n",
      "9   2025-06-09  \n",
      "10  2025-06-09  \n",
      "11  2025-06-10  \n",
      "12  2025-06-10  \n",
      "13  2025-06-10  \n"
     ]
    }
   ],
   "source": [
    "# === 금주 생성된 VM 테이블 ===\n",
    "if is_monday():\n",
    "    weekly_vms = fetch_weekly_added_vms()\n",
    "    df_weekly = pd.DataFrame(weekly_vms)\n",
    "    print(\"weekly_vms:\", df_weekly)\n",
    "    document.add_paragraph(f'📅 이번 주 생성된 VM 목록 ({len(weekly_vms)}건)', style='List Bullet')\n",
    "    \n",
    "    if weekly_vms:\n",
    "        add_delete_Table_instance(df_weekly)\n",
    "    else:\n",
    "        document.add_paragraph('금주 생성된 VM이 없습니다.', style='List Bullet')"
   ]
  },
  {
   "cell_type": "code",
   "execution_count": 9,
   "id": "e2c2f44f-2859-4892-b2a5-efda68dffbff",
   "metadata": {},
   "outputs": [],
   "source": [
    "current_date = datetime.now().strftime(\"%Y%m%d\")\n",
    "document.save(f'C:\\\\Beomjun\\\\csv\\\\vm_report_{current_date}.docx')"
   ]
  },
  {
   "cell_type": "code",
   "execution_count": null,
   "id": "348608a1-81c4-4b3e-8241-72cf6a7be048",
   "metadata": {},
   "outputs": [],
   "source": []
  },
  {
   "cell_type": "markdown",
   "id": "093de1c4-c694-4845-b940-5ff357a33ff3",
   "metadata": {},
   "source": [
    "## 스토리지 용량 수집(Cinder+Manila)"
   ]
  },
  {
   "cell_type": "code",
   "execution_count": 17,
   "id": "55a5e55a-b0c4-4f7b-9a08-8442eb094c94",
   "metadata": {
    "execution": {
     "iopub.execute_input": "2025-05-27T13:54:33.862090Z",
     "iopub.status.busy": "2025-05-27T13:54:33.862090Z",
     "iopub.status.idle": "2025-05-27T13:54:34.288073Z",
     "shell.execute_reply": "2025-05-27T13:54:34.287570Z"
    }
   },
   "outputs": [],
   "source": [
    "import time\n",
    "from datetime import datetime, timedelta\n",
    "from novaclient import client\n",
    "import pandas as pd\n",
    "\n",
    "import os\n",
    "from keystoneauth1 import session\n",
    "from keystoneauth1.identity import v3\n",
    "from odf.opendocument import OpenDocumentSpreadsheet\n",
    "from odf.table import Table, TableRow, TableCell\n",
    "from odf.text import P\n",
    "from cinderclient import client as cinder_client\n",
    "from manilaclient import client as manila_client"
   ]
  },
  {
   "cell_type": "code",
   "execution_count": 18,
   "id": "8dc4d256-a1f1-4b9f-b243-bc01e005ff28",
   "metadata": {
    "execution": {
     "iopub.execute_input": "2025-05-27T13:54:34.292088Z",
     "iopub.status.busy": "2025-05-27T13:54:34.291089Z",
     "iopub.status.idle": "2025-05-27T13:54:34.303106Z",
     "shell.execute_reply": "2025-05-27T13:54:34.303106Z"
    }
   },
   "outputs": [],
   "source": [
    "def create_ods_file(file_path, sheet_data_list):\n",
    "    print(\"ODS 파일 생성 시작...\")\n",
    "\n",
    "    if os.path.exists(file_path):\n",
    "        os.remove(file_path)\n",
    "\n",
    "    doc = OpenDocumentSpreadsheet()\n",
    "\n",
    "    for sheet_name, header, data_rows in sheet_data_list:\n",
    "        print(f\"📄 시트 생성: {sheet_name}\")\n",
    "        table = Table(name=sheet_name)\n",
    "\n",
    "        # Header\n",
    "        header_row = TableRow()\n",
    "        for col in header:\n",
    "            cell = TableCell(valuetype=\"string\")\n",
    "            cell.addElement(P(text=str(col)))\n",
    "            header_row.addElement(cell)\n",
    "        table.addElement(header_row)\n",
    "\n",
    "        # Data rows\n",
    "        for row in data_rows:\n",
    "            row_element = TableRow()\n",
    "            for item in row:\n",
    "                cell = TableCell(valuetype=\"string\")\n",
    "                cell.addElement(P(text=str(item if item is not None else \"\")))\n",
    "                row_element.addElement(cell)\n",
    "            table.addElement(row_element)\n",
    "\n",
    "        doc.spreadsheet.addElement(table)\n",
    "\n",
    "    # Save file\n",
    "    with open(file_path, \"wb\") as f:\n",
    "        doc.write(f)\n",
    "        f.flush()\n",
    "\n",
    "    print(f\"✅ ODS 저장 완료: {file_path}\")\n",
    "\n",
    "# 파일명 생성 함수\n",
    "def get_file_and_topic_names(current_date):\n",
    "    file_name = f'C:\\\\Beomjun\\\\csv\\\\Volume\\\\volume_info_{current_date}.ods'\n",
    "    return file_name"
   ]
  },
  {
   "cell_type": "code",
   "execution_count": 19,
   "id": "d7248d0a-e451-45b6-ade3-c20a4859837f",
   "metadata": {
    "execution": {
     "iopub.execute_input": "2025-05-27T13:54:34.307016Z",
     "iopub.status.busy": "2025-05-27T13:54:34.306026Z",
     "iopub.status.idle": "2025-05-27T13:54:34.318650Z",
     "shell.execute_reply": "2025-05-27T13:54:34.318104Z"
    }
   },
   "outputs": [],
   "source": [
    "def extract_cinder_data(session):\n",
    "    cinder = cinder_client.Client('3', session=session)\n",
    "    volumes = cinder.volumes.list(search_opts={'all_tenants': 1})\n",
    "\n",
    "    header = [\"tenant\", \"id\", \"name\", \"size\", \"status\", \"volume_type\", \"created_at\", \"availability_zone\"]\n",
    "    data = []\n",
    "\n",
    "    for v in volumes:\n",
    "        volume_type = v.volume_type or \"\"\n",
    "        tenant = \"PRD\" if \"prd\" in volume_type.lower() else \"STG\" if \"stg\" in volume_type.lower() else \"\"\n",
    "\n",
    "        row = [\n",
    "            tenant,\n",
    "            v.id,\n",
    "            v.name,\n",
    "            v.size,\n",
    "            v.status,\n",
    "            volume_type,\n",
    "            v.created_at,\n",
    "            v.availability_zone,\n",
    "        ]\n",
    "        data.append(row)\n",
    "\n",
    "    return (\"Cinder_Volumes\", header, data)\n",
    "\n",
    "def extract_manila_data(session):\n",
    "    manila = manila_client.Client('2', session=session)\n",
    "    shares = manila.shares.list(search_opts={'all_tenants': 1})\n",
    "\n",
    "    header = [\"tenant\", \"id\", \"name\", \"size\", \"status\", \"volume_type\", \"created_at\", \"share_proto\", \"export_location\"]\n",
    "    data = []\n",
    "\n",
    "    for s in shares:\n",
    "        volume_type = s.volume_type or \"\"\n",
    "        tenant = \"PRD\" if \"prd\" in volume_type.lower() else \"STG\" if \"stg\" in volume_type.lower() else \"\"\n",
    "\n",
    "        row = [\n",
    "            tenant,\n",
    "            s.id,\n",
    "            s.name,\n",
    "            s.size,\n",
    "            s.status,\n",
    "            s.volume_type,\n",
    "            s.created_at,\n",
    "            s.share_proto,\n",
    "            s.export_location\n",
    "        ]\n",
    "        data.append(row)\n",
    "\n",
    "    return (\"Manila_Shares\", header, data)\n"
   ]
  },
  {
   "cell_type": "code",
   "execution_count": 20,
   "id": "b6f314f0-fb64-46ff-8a50-0b11049e7c2e",
   "metadata": {
    "execution": {
     "iopub.execute_input": "2025-05-27T13:54:34.322667Z",
     "iopub.status.busy": "2025-05-27T13:54:34.321669Z",
     "iopub.status.idle": "2025-05-27T13:54:34.334268Z",
     "shell.execute_reply": "2025-05-27T13:54:34.333723Z"
    }
   },
   "outputs": [],
   "source": [
    "def nova_extract():\n",
    "    current_date = datetime.now().strftime(\"%Y%m%d\")\n",
    "\n",
    "    auth = v3.Password(\n",
    "        auth_url='http://cloud-control-vip.eu-central.openstack.h53:5000/v3',\n",
    "        username='admin',\n",
    "        password='TldhTl1!',\n",
    "        user_domain_name='Default',\n",
    "        project_name='admin',\n",
    "        project_domain_name='Default'\n",
    "    )\n",
    "\n",
    "    sess = session.Session(auth=auth)\n",
    "    nova = client.Client('2.1', session=sess)\n",
    "\n",
    "    ods_file_path = get_file_and_topic_names(current_date)\n",
    "    print(\"ODS 파일명:\", ods_file_path)\n",
    "\n",
    "    # Cinder & Manila\n",
    "    cinder_sheet = extract_cinder_data(sess)\n",
    "    manila_sheet = extract_manila_data(sess)\n",
    "\n",
    "    # #----------------------------------------------------\n",
    "    # # 키값 확인 \n",
    "    # cinder = cinder_client.Client('3', session=sess)\n",
    "    # volumes = cinder.volumes.list(search_opts={'all_tenants': 1})\n",
    "    # # 예: 첫 번째 볼륨의 모든 키 확인\n",
    "    # if volumes:\n",
    "    #     v = volumes[0]  # 리스트에서 첫 번째 볼륨 선택\n",
    "    #     volume_dict = v.to_dict()\n",
    "    \n",
    "    #     print(\"🔍 Cinder Volume 모든 필드:\")\n",
    "    #     for key in volume_dict:\n",
    "    #         print(f\"{key}: {volume_dict[key]}\")\n",
    "    # else:\n",
    "    #     print(\"❗ 볼륨이 없습니다.\")\n",
    "\n",
    "    # manila = manila_client.Client('2', session=sess)\n",
    "    # shares = manila.shares.list(search_opts={'all_tenants': 1})\n",
    "    # if shares:\n",
    "    #     v = shares[0]  # 리스트에서 첫 번째 볼륨 선택\n",
    "    #     share_dict = v.to_dict()\n",
    "    \n",
    "    #     print(\"🔍 share Volume 모든 필드:\")\n",
    "    #     for key in share_dict:\n",
    "    #         print(f\"{key}: {share_dict[key]}\")\n",
    "    # else:\n",
    "    #     print(\"❗ 볼륨이 없습니다.\")\n",
    "    # #-----------------------------------------------------\n",
    "    \n",
    "    # 시트 데이터 리스트 구성\n",
    "    sheets = [cinder_sheet, manila_sheet]\n",
    "    create_ods_file(ods_file_path, sheets)"
   ]
  },
  {
   "cell_type": "code",
   "execution_count": 21,
   "id": "988d65d0-6d0e-4c55-af08-e4b8e08c956b",
   "metadata": {
    "execution": {
     "iopub.execute_input": "2025-05-27T13:54:34.338283Z",
     "iopub.status.busy": "2025-05-27T13:54:34.338283Z",
     "iopub.status.idle": "2025-05-27T13:55:11.135093Z",
     "shell.execute_reply": "2025-05-27T13:55:11.134197Z"
    }
   },
   "outputs": [
    {
     "name": "stdout",
     "output_type": "stream",
     "text": [
      "ODS 파일명: C:\\Beomjun\\csv\\Volume\\volume_info_20250527.ods\n"
     ]
    },
    {
     "name": "stdout",
     "output_type": "stream",
     "text": [
      "ODS 파일 생성 시작...\n",
      "📄 시트 생성: Cinder_Volumes\n"
     ]
    },
    {
     "name": "stdout",
     "output_type": "stream",
     "text": [
      "📄 시트 생성: Manila_Shares\n"
     ]
    },
    {
     "name": "stdout",
     "output_type": "stream",
     "text": [
      "✅ ODS 저장 완료: C:\\Beomjun\\csv\\Volume\\volume_info_20250527.ods\n"
     ]
    }
   ],
   "source": [
    "nova_extract()"
   ]
  },
  {
   "cell_type": "code",
   "execution_count": null,
   "id": "62ab4c2a-233f-42be-bc89-2417280f6ae7",
   "metadata": {},
   "outputs": [],
   "source": []
  },
  {
   "cell_type": "markdown",
   "id": "33b7bdcd-6b43-4a59-bd57-dc10da7f4813",
   "metadata": {},
   "source": [
    "## 스토리지 용량 수집(캡처)"
   ]
  },
  {
   "cell_type": "code",
   "execution_count": 22,
   "id": "eb26add9-5dfc-4a60-9b96-2281d13b2c6e",
   "metadata": {
    "execution": {
     "iopub.execute_input": "2025-05-27T13:55:11.140605Z",
     "iopub.status.busy": "2025-05-27T13:55:11.139608Z",
     "iopub.status.idle": "2025-05-27T13:55:14.016135Z",
     "shell.execute_reply": "2025-05-27T13:55:14.015447Z"
    }
   },
   "outputs": [],
   "source": [
    "from time import sleep\n",
    "from selenium import webdriver\n",
    "from threading import Event\n",
    "from selenium.common.exceptions import NoSuchElementException\n",
    "from concurrent.futures import ThreadPoolExecutor\n",
    "from selenium.webdriver.chrome.service import Service\n",
    "from selenium.webdriver.chrome.service import Service as ChromeService\n",
    "from webdriver_manager.chrome import ChromeDriverManager\n",
    "from selenium.webdriver.common.by import By\n",
    "from selenium.webdriver.support.ui import WebDriverWait\n",
    "from selenium.webdriver.support import expected_conditions as EC\n",
    "\n",
    "import subprocess\n",
    "import platform\n",
    "import certifi\n",
    "import threading\n",
    "import sys\n",
    "import urllib3\n",
    "import zipfile\n",
    "\n",
    "screenshots_path = 'ScreenShots'\n",
    "isExist = os.path.exists(screenshots_path)\n",
    "\n",
    "if not isExist:\n",
    "    os.makedirs(screenshots_path)\n",
    "    print(\"The new directory is created!\")\n",
    "\n",
    "# Chrome 버전 변경 시, Chrome webdriver 설치\n",
    "# https://googlechromelabs.github.io/chrome-for-testing/#stable\n",
    "\n",
    "import winreg\n",
    "import requests\n",
    "\n",
    "def get_chrome_version_from_registry():\n",
    "    reg_paths = [\n",
    "        r\"SOFTWARE\\Google\\Chrome\\BLBeacon\",  # 일반 설치\n",
    "        r\"SOFTWARE\\WOW6432Node\\Google\\Chrome\\BLBeacon\"  # 32bit 설치 경로\n",
    "    ]\n",
    "\n",
    "    for reg_path in reg_paths:\n",
    "        try:\n",
    "            reg_key = winreg.OpenKey(winreg.HKEY_CURRENT_USER, reg_path)\n",
    "            version, _ = winreg.QueryValueEx(reg_key, \"version\")\n",
    "            winreg.CloseKey(reg_key)\n",
    "            return version\n",
    "        except FileNotFoundError:\n",
    "            continue\n",
    "\n",
    "    print(\"[ERROR] Chrome version not found in registry.\")\n",
    "    return None"
   ]
  },
  {
   "cell_type": "code",
   "execution_count": 23,
   "id": "6eab7b57-af3c-4200-a57b-73458fd2a8ce",
   "metadata": {
    "execution": {
     "iopub.execute_input": "2025-05-27T13:55:14.019158Z",
     "iopub.status.busy": "2025-05-27T13:55:14.019158Z",
     "iopub.status.idle": "2025-05-27T13:55:15.455708Z",
     "shell.execute_reply": "2025-05-27T13:55:15.454201Z"
    }
   },
   "outputs": [
    {
     "name": "stdout",
     "output_type": "stream",
     "text": [
      "[INFO] Detected Chrome version: 137.0.7151.41\n",
      "[INFO] Downloading ChromeDriver for version 137.0.7151.41...\n"
     ]
    },
    {
     "name": "stdout",
     "output_type": "stream",
     "text": [
      "[INFO] ChromeDriver installed successfully.\n"
     ]
    }
   ],
   "source": [
    "# 📌 2. 다운로드 및 설치\n",
    "def download_and_install_chromedriver(chrome_version):\n",
    "    major_version = chrome_version.split('.')[0]\n",
    "    # base_url = f\"https://edgedl.me.gvt1.com/edgedl/chrome/chrome-for-testing/{chrome_version}/win64/chromedriver-win64.zip\"\n",
    "    base_url = f\"https://storage.googleapis.com/chrome-for-testing-public/{chrome_version}/win64/chromedriver-win64.zip\"\n",
    "\n",
    "    print(f\"[INFO] Downloading ChromeDriver for version {chrome_version}...\")\n",
    "    r = requests.get(base_url, stream=True)\n",
    "    if r.status_code != 200:\n",
    "        print(f\"[ERROR] Failed to download chromedriver from {base_url}\")\n",
    "        sys.exit(1)\n",
    "\n",
    "    zip_path = 'chromedriver.zip'\n",
    "    with open(zip_path, 'wb') as f:\n",
    "        f.write(r.content)\n",
    "\n",
    "    with zipfile.ZipFile(zip_path, 'r') as zip_ref:\n",
    "        zip_ref.extractall()\n",
    "\n",
    "    # chromedriver 위치로 이동\n",
    "    shutil.move(\"chromedriver-win64/chromedriver.exe\", \"./chromedriver.exe\")\n",
    "    shutil.rmtree(\"chromedriver-win64\")\n",
    "    os.remove(zip_path)\n",
    "    print(\"[INFO] ChromeDriver installed successfully.\")\n",
    "\n",
    "chrome_version = get_chrome_version_from_registry()\n",
    "print(f\"[INFO] Detected Chrome version: {chrome_version}\")\n",
    "download_and_install_chromedriver(chrome_version)"
   ]
  },
  {
   "cell_type": "code",
   "execution_count": 24,
   "id": "b07b8bc1-11c1-481f-a9b1-481cc7c3b9c3",
   "metadata": {
    "execution": {
     "iopub.execute_input": "2025-05-27T13:55:15.459695Z",
     "iopub.status.busy": "2025-05-27T13:55:15.459695Z",
     "iopub.status.idle": "2025-05-27T13:55:15.470659Z",
     "shell.execute_reply": "2025-05-27T13:55:15.469662Z"
    }
   },
   "outputs": [],
   "source": [
    "urllib3.disable_warnings(urllib3.exceptions.InsecureRequestWarning)\n",
    "exit_event = Event()\n",
    "os.environ['WDM_SSL_VERIFY'] = '0'\n",
    "# driver = webdriver.Chrome(service=ChromeService(ChromeDriverManager().install()))\n",
    "# driver.implicitly_wait(60)"
   ]
  },
  {
   "cell_type": "code",
   "execution_count": 25,
   "id": "a2baf1fe-97bb-4264-ab42-7d535ea9910a",
   "metadata": {
    "execution": {
     "iopub.execute_input": "2025-05-27T13:55:15.474660Z",
     "iopub.status.busy": "2025-05-27T13:55:15.474660Z",
     "iopub.status.idle": "2025-05-27T13:55:15.485234Z",
     "shell.execute_reply": "2025-05-27T13:55:15.484729Z"
    }
   },
   "outputs": [],
   "source": [
    "# 웹드라이버 클래스 (생성자/소멸자)\n",
    "class Driver:\n",
    "    def __init__(self):\n",
    "        options = webdriver.ChromeOptions()\n",
    "        options.add_argument(\"--headless=new\")  # 최신 headless 모드\n",
    "        options.add_argument(\"--disable-gpu\")  # 필요 시 제거\n",
    "        options.add_argument(\"--enable-unsafe-swiftshader\")\n",
    "        options.add_argument(\"--use-gl=swiftshader\")\n",
    "        # options.add_argument(\"--window-size=1920,1080\")\n",
    "        options.add_argument(\"--no-sandbox\")\n",
    "        options.add_argument(\"--disable-infobars\")\n",
    "        options.add_argument(\"--allow-running-insecure-content\")\n",
    "        options.add_argument(\"--ignore-certificate-errors\")\n",
    "        options.add_argument(\"--disable-extensions\")\n",
    "\n",
    "        try:\n",
    "            # 🔥 핵심: ChromeDriverManager로 설치하고 service로 넘김\n",
    "            # service = Service(ChromeDriverManager().install())\n",
    "            service = Service(executable_path=\"C:/Beomjun/chromedriver.exe\")\n",
    "            self.driver = webdriver.Chrome(service=service, options=options)\n",
    "        except Exception as e:\n",
    "            print(\"❌ WebDriver 생성 실패:\", e)\n",
    "            raise\n",
    "        # service = Service(executable_path='chromedriver')  # 또는 전체 경로\n",
    "        # self.driver = webdriver.Chrome(service=service, options=options)\n",
    "        # self.driver = webdriver.Chrome(executable_path='chromedriver', options=options)\n",
    "        self.driver.set_window_size(1920,1080) \n",
    "        sleep(10)\n",
    "        self.driver.maximize_window()\n",
    "\n",
    "    def __del__(self):\n",
    "        try:   \n",
    "            self.driver.quit() # clean up driver when we are cleaned up\n",
    "        except Exception:\n",
    "            pass\n",
    "\n",
    "thread_local = threading.local()"
   ]
  },
  {
   "cell_type": "code",
   "execution_count": 26,
   "id": "5d8b13f4-508d-4a06-9875-01e2feabd8c3",
   "metadata": {
    "execution": {
     "iopub.execute_input": "2025-05-27T13:55:15.491226Z",
     "iopub.status.busy": "2025-05-27T13:55:15.490228Z",
     "iopub.status.idle": "2025-05-27T13:55:15.515741Z",
     "shell.execute_reply": "2025-05-27T13:55:15.515144Z"
    }
   },
   "outputs": [],
   "source": [
    "# 웹페이지 로그인 제공\n",
    "def login(driver, url, userid, userid_xpath, passwd, passwd_xpath, login_xpath):\n",
    "    try:\n",
    "        # Grafana 로그인 페이지로 이동\n",
    "        driver.get(url)\n",
    "        driver.switch_to.default_content()\n",
    "        driver.switch_to.parent_frame()\n",
    "\n",
    "        try:\n",
    "            # 고급 버튼 클릭\n",
    "            driver.find_element('xpath', '//*[@id=\"details-button\"]').click()\n",
    "\n",
    "            # 이동 버튼 클릭\n",
    "            driver.find_element('xpath', '//*[@id=\"proceed-link\"]').click()\n",
    "\n",
    "            # Hcloud 추가\n",
    "            driver.find_element('xpath', '//*[@id=\"reactRoot\"]/div/main/div[3]/div/div[2]/div/div[2]/div[2]/a').click() \n",
    "\n",
    "        except Exception as e:\n",
    "            print(e)\n",
    "\n",
    "     \n",
    "        username = driver.find_element('xpath', userid_xpath)    \n",
    "        print(\"id입력 성공\"+url)    \n",
    "        username.clear()\n",
    "        username.send_keys(userid)\n",
    "        sleep(3)\n",
    "        \n",
    "        password = driver.find_element('xpath', passwd_xpath)\n",
    "        print(\"pw입력 성공\"+url) \n",
    "        password.clear()\n",
    "        password.send_keys(passwd)\n",
    "        sleep(3)\n",
    "\n",
    "        # Login 버튼 클릭\n",
    "        driver.find_element('xpath', login_xpath).click()\n",
    "        print(\"login시도중---->>\"+url)\n",
    "        sleep(3)\n",
    "   \n",
    "    except Exception as e:\n",
    "        return None\n",
    "        \n",
    "    return driver\n",
    "\n",
    "\n",
    "# 로그인 정보 딕셔너리\n",
    "login_info = {\n",
    "    \"01_EU_Hcloud_Storage\": {\n",
    "        \"url\": \"https://hubble-euce.platform.hcloud.io/grafana/login/generic_oauth\",\n",
    "        # \"url\": \"https://sso.hcloud.hmc.co.kr/auth/realms/hcloud/protocol/openid-connect/auth?client_id=iam-client&redirect_uri=http%3A%2F%2Fhubble-euce.platform.hcloud.io%2Fgrafana%2Flogin%2Fgeneric_oauth&response_type=code&scope=openid+email+profile&state=6kBGz08USQFE2sxJSKZl9LSlao6N9aQCqaBfpIM03cs%3D\",\n",
    "        \"userid\": \"cocop\",\n",
    "        \"passwd\": \"cocop\",\n",
    "        \"userid_xpath\": '//*[@id=\"username\"]',\n",
    "        \"passwd_xpath\": '//*[@id=\"password\"]',\n",
    "        \"login_xpath\": '//*[@id=\"kc-form-login\"]/button'\n",
    "    },\n",
    "}\n",
    "\n",
    "def create_driver(bot):\n",
    "    the_driver = getattr(thread_local, 'the_driver', None)\n",
    "    print(the_driver)\n",
    "    # if the_driver is None:\n",
    "    try:\n",
    "        the_driver = Driver()\n",
    "        setattr(thread_local, 'the_driver', the_driver)\n",
    "        print(\"새드라이버 생성중~\")\n",
    "    except Exception as e:\n",
    "        print(e)\n",
    "        return None\n",
    "\n",
    "    driver = the_driver.driver\n",
    "\n",
    "    print(\"-----create_driver=\"+bot+\"------\")\n",
    "    sleep(3)\n",
    "\n",
    "    try:\n",
    "        login_data = login_info.get(bot)\n",
    "        if login_data:\n",
    "            url = login_data[\"url\"]\n",
    "            userid = login_data[\"userid\"]\n",
    "            passwd = login_data[\"passwd\"]\n",
    "            userid_xpath = login_data[\"userid_xpath\"]\n",
    "            passwd_xpath = login_data[\"passwd_xpath\"]\n",
    "            login_xpath = login_data[\"login_xpath\"]\n",
    "            driver=login(driver, url, userid, userid_xpath, passwd, passwd_xpath, login_xpath)\n",
    "            if driver is None: \n",
    "                return None\n",
    "    except Exception as e:\n",
    "        print(e)\n",
    "\n",
    "    return driver\n",
    "\n",
    "\n",
    "def capture_screen(bot):\n",
    "    \n",
    "    try:\n",
    "        driver = create_driver(bot)\n",
    "        \n",
    "        if driver is None:\n",
    "            print(\"드라이버 생성 실패\")\n",
    "            return  # 드라이버 생성 실패 시 함수 종료\n",
    "        print(\"----\"+bot+\"캡처함수시작---\")\n",
    "        print(f\"Capturing the screens started at {datetime.now()}\")\n",
    "        \n",
    "        start_time = time.time()\n",
    "        # 최종(대시보드) 페이지 및 저장파일 이름 설정\n",
    "        urls = {\n",
    "            \"01_EU_Hcloud_Storage\": \"https://hubble-euce.platform.hcloud.io/grafana/d/dongheon-euce/netapp-euce-summary?orgId=41&viewPanel=2&from=now-3h&to=now\",\n",
    "        }\n",
    "        filename = f'{screenshots_path}/{bot}_{datetime.now().strftime(\"%Y%m%d_%H%M\")}.png'\n",
    "        url = urls.get(bot)\n",
    "        print(\"url:\",url)\n",
    "        print(\"bot:\",bot)\n",
    "\n",
    "        if url: \n",
    "            if bot == '01_EU_Hcloud_Storage':\n",
    "                driver.get(url)\n",
    "                # driver.implicitly_wait(30)\n",
    "                sleep(30)\n",
    "                \n",
    "                WebDriverWait(driver, 20).until(\n",
    "                    EC.element_to_be_clickable((By.XPATH, '//*[@id=\"mega-menu-toggle\"]'))\n",
    "                ).click()\n",
    "                driver.execute_script(\"document.querySelector('#mega-menu-toggle').click();\")\n",
    "                sleep(5)\n",
    "                driver.set_window_size(1920, 1300)\n",
    "                # driver.maximize_window()\n",
    "\n",
    "                # sleep(30)\n",
    "                # driver.execute_script(\"document.body.style.zoom=0.75\")\n",
    "                # element = driver.find_element('xpath', '//*[@id=\"mega-menu-toggle\"]')\n",
    "                # if element.is_displayed():\n",
    "                #     element.click()\n",
    "                #     print(\"click success!\")\n",
    "                # else:\n",
    "                #     print(\"Element is not visible in headless mode\")\n",
    "\n",
    "\n",
    "                # driver.set_window_size(1920, 1500)\n",
    "                # driver.maximize_window()\n",
    "                # sleep(10)\n",
    "                # get total page dimensions\n",
    "                # total_width = driver.execute_script(\"return document.body.scrollWidth\")\n",
    "                # total_height = driver.execute_script(\"return document.body.scrollHeight\")\n",
    "\n",
    "                # set to full size\n",
    "                # driver.set_window_size(total_width, total_height)\n",
    "                # sleep(2)\n",
    "\n",
    "                # zoom out\n",
    "                sleep(5)\n",
    "                # driver.execute_script(\"document.body.style.zoom='0.50'\")\n",
    "                # sleep(2)\n",
    "                # driver.execute_script(\"document.body.style.zoom='0.75'\")\n",
    "                # sleep(10)\n",
    "                driver.save_screenshot(filename)    \n",
    "                driver.close()\n",
    "                driver.quit()\n",
    "                print('스토리지 캡쳐 완료!')\n",
    "\n",
    "            else:\n",
    "                \n",
    "                driver.get(url)\n",
    "                sleep(30)\n",
    "                driver.set_window_size(1920, 1080)\n",
    "                driver.maximize_window()\n",
    "               \n",
    "                sleep(50)\n",
    "                driver.execute_script(\"document.body.style.zoom=0.75\")\n",
    "                sleep(30)\n",
    "                driver.save_screenshot(filename)\n",
    "                driver.close()\n",
    "                driver.quit()\n",
    "        else: \n",
    "            print(\"Error occurred while capture!!\")\n",
    "        print(\"----\"+bot+\"캡처함수종료-----\")\n",
    "    # 예외 처리\n",
    "    except Exception as e:\n",
    "        print(f\"Error occurred: {e}\")\n",
    "        print(\"\\n... Program Stopped Manually!\")\n",
    "        return"
   ]
  },
  {
   "cell_type": "code",
   "execution_count": 27,
   "id": "490952d2-f957-4f4c-ab4e-21f7eb225c7b",
   "metadata": {
    "execution": {
     "iopub.execute_input": "2025-05-27T13:55:15.521727Z",
     "iopub.status.busy": "2025-05-27T13:55:15.520731Z",
     "iopub.status.idle": "2025-05-27T13:56:59.072026Z",
     "shell.execute_reply": "2025-05-27T13:56:59.071485Z"
    }
   },
   "outputs": [
    {
     "name": "stdout",
     "output_type": "stream",
     "text": [
      "None\n"
     ]
    },
    {
     "name": "stdout",
     "output_type": "stream",
     "text": [
      "새드라이버 생성중~\n",
      "-----create_driver=01_EU_Hcloud_Storage------\n"
     ]
    },
    {
     "name": "stdout",
     "output_type": "stream",
     "text": [
      "Message: no such element: Unable to locate element: {\"method\":\"xpath\",\"selector\":\"//*[@id=\"details-button\"]\"}\n",
      "  (Session info: chrome=137.0.7151.41); For documentation on this error, please visit: https://www.selenium.dev/documentation/webdriver/troubleshooting/errors#no-such-element-exception\n",
      "Stacktrace:\n",
      "\tGetHandleVerifier [0x0x7ff6eee99235+2853861]\n",
      "\tGetHandleVerifier [0x0x7ff6eebf3af0+79008]\n",
      "\t(No symbol) [0x0x7ff6ee9b9bda]\n",
      "\t(No symbol) [0x0x7ff6eea100f6]\n",
      "\t(No symbol) [0x0x7ff6eea103ac]\n",
      "\t(No symbol) [0x0x7ff6eea63b07]\n",
      "\t(No symbol) [0x0x7ff6eea384ff]\n",
      "\t(No symbol) [0x0x7ff6eea608f5]\n",
      "\t(No symbol) [0x0x7ff6eea38293]\n",
      "\t(No symbol) [0x0x7ff6eea01061]\n",
      "\t(No symbol) [0x0x7ff6eea01df3]\n",
      "\tGetHandleVerifier [0x0x7ff6eeec414d+3029757]\n",
      "\tGetHandleVerifier [0x0x7ff6eeebe56d+3006237]\n",
      "\tGetHandleVerifier [0x0x7ff6eeedd5f2+3133346]\n",
      "\tGetHandleVerifier [0x0x7ff6eec0d9be+185198]\n",
      "\tGetHandleVerifier [0x0x7ff6eec14f0f+215231]\n",
      "\tGetHandleVerifier [0x0x7ff6eebfc354+113924]\n",
      "\tGetHandleVerifier [0x0x7ff6eebfc509+114361]\n",
      "\tGetHandleVerifier [0x0x7ff6eebe3238+11240]\n",
      "\tBaseThreadInitThunk [0x0x7ffea3677374+20]\n",
      "\tRtlUserThreadStart [0x0x7ffea52bcc91+33]\n",
      "\n",
      "id입력 성공https://hubble-euce.platform.hcloud.io/grafana/login/generic_oauth\n"
     ]
    },
    {
     "name": "stdout",
     "output_type": "stream",
     "text": [
      "pw입력 성공https://hubble-euce.platform.hcloud.io/grafana/login/generic_oauth\n"
     ]
    },
    {
     "name": "stdout",
     "output_type": "stream",
     "text": [
      "login시도중---->>https://hubble-euce.platform.hcloud.io/grafana/login/generic_oauth\n"
     ]
    },
    {
     "name": "stdout",
     "output_type": "stream",
     "text": [
      "----01_EU_Hcloud_Storage캡처함수시작---\n",
      "Capturing the screens started at 2025-05-27 15:55:55.983581\n",
      "url: https://hubble-euce.platform.hcloud.io/grafana/d/dongheon-euce/netapp-euce-summary?orgId=41&viewPanel=2&from=now-3h&to=now\n",
      "bot: 01_EU_Hcloud_Storage\n"
     ]
    },
    {
     "name": "stdout",
     "output_type": "stream",
     "text": [
      "스토리지 캡쳐 완료!\n",
      "----01_EU_Hcloud_Storage캡처함수종료-----\n"
     ]
    },
    {
     "name": "stdout",
     "output_type": "stream",
     "text": [
      "---------------------------end----------------------------\n"
     ]
    }
   ],
   "source": [
    "def main_capture():\n",
    "\n",
    "    number_threads = 1\n",
    "    \n",
    "    bots = [\n",
    "        '01_EU_Hcloud_Storage',\n",
    "    ]\n",
    "\n",
    "    with ThreadPoolExecutor(max_workers=number_threads) as pool:\n",
    "        try:\n",
    "            pool.map(capture_screen, bots)\n",
    "        except KeyboardInterrupt:\n",
    "            print('Caught keyboardinterrupt')\n",
    "            pass\n",
    "\n",
    "if __name__ == \"__main__\":\n",
    "    try:\n",
    "        main_capture()\n",
    "    except KeyboardInterrupt:\n",
    "        print('Caught keyboardinterrupt')\n",
    "        pass\n",
    "\n",
    "    import gc\n",
    "    gc.collect() # a little extra insurance\n",
    "    print(\"---------------------------end----------------------------\")"
   ]
  },
  {
   "cell_type": "code",
   "execution_count": null,
   "id": "162800ff-2bf0-42f8-8b29-10774c74dabd",
   "metadata": {},
   "outputs": [],
   "source": []
  },
  {
   "cell_type": "markdown",
   "id": "43f71c7e-e49f-49cc-88f8-f3bec2c06744",
   "metadata": {},
   "source": [
    "## Proxmox 수집"
   ]
  },
  {
   "cell_type": "code",
   "execution_count": 28,
   "id": "2bf4ba40-279c-4b12-8769-8c971fa0cc12",
   "metadata": {
    "execution": {
     "iopub.execute_input": "2025-05-27T13:56:59.075013Z",
     "iopub.status.busy": "2025-05-27T13:56:59.075013Z",
     "iopub.status.idle": "2025-05-27T13:56:59.118149Z",
     "shell.execute_reply": "2025-05-27T13:56:59.117644Z"
    }
   },
   "outputs": [],
   "source": [
    "from proxmoxer import ProxmoxAPI\n",
    "from datetime import datetime, timedelta\n",
    "import pandas as pd\n",
    "import re\n",
    "\n",
    "urllib3.disable_warnings(urllib3.exceptions.InsecureRequestWarning)\n",
    "\n",
    "# 여러 Proxmox 서버 연결 정보 리스트\n",
    "proxmox_servers = [\n",
    "    {'host': 'proxmox-eu-central-1.hcloud.io:8006', 'user': 'root@pam', 'password': 'EUccs2!@#$'},\n",
    "    {'host': 'proxmox-lms-prd-eu-central-1.hcloud.io:8006', 'user': 'root@pam', 'password': 'EUccs2!@#$'},\n",
    "    {'host': 'proxmox-lms-stg-eu-central-1.hcloud.io:8006', 'user': 'root@pam', 'password': 'EUccs2!@#$'},\n",
    "    {'host': 'proxmox-eu-central-2.hcloud.io:8006', 'user': 'root@pam', 'password': 'EUccs2!@#$'},\n",
    "    {'host': 'proxmox-lms-prd-eu-central-2.hcloud.io:8006', 'user': 'root@pam', 'password': 'EUccs2!@#$'},\n",
    "    {'host': 'proxmox-lms-stg-eu-central-2.hcloud.io:8006', 'user': 'root@pam', 'password': 'EUccs2!@#$'}\n",
    "]"
   ]
  },
  {
   "cell_type": "code",
   "execution_count": 29,
   "id": "bb4a4484-52bf-4650-bcfa-91694b195712",
   "metadata": {
    "execution": {
     "iopub.execute_input": "2025-05-27T13:56:59.121143Z",
     "iopub.status.busy": "2025-05-27T13:56:59.121143Z",
     "iopub.status.idle": "2025-05-27T13:56:59.133711Z",
     "shell.execute_reply": "2025-05-27T13:56:59.133104Z"
    }
   },
   "outputs": [],
   "source": [
    "# uptime 변환 함수\n",
    "def format_uptime(seconds):\n",
    "    days = seconds // 86400\n",
    "    hours = (seconds % 86400) // 3600\n",
    "    return f\"{days}d {hours}h\"\n",
    "\n",
    "current_date = datetime.now().strftime(\"%Y%m%d\")\n",
    "\n",
    "# Sheet 이름 변환 함수\n",
    "def format_sheet_name(hostname):\n",
    "    hostname = hostname.replace(':', '_')\n",
    "    hostname = re.sub(r'eu-central-1\\.hcloud\\.io', 'FR2', hostname)\n",
    "    hostname = re.sub(r'eu-central-2\\.hcloud\\.io', 'FR7', hostname)\n",
    "    return hostname"
   ]
  },
  {
   "cell_type": "code",
   "execution_count": 30,
   "id": "f895349a-4312-4321-ac69-0fd0994d259f",
   "metadata": {
    "execution": {
     "iopub.execute_input": "2025-05-27T13:56:59.137701Z",
     "iopub.status.busy": "2025-05-27T13:56:59.137701Z",
     "iopub.status.idle": "2025-05-27T13:57:17.849627Z",
     "shell.execute_reply": "2025-05-27T13:57:17.848629Z"
    }
   },
   "outputs": [
    {
     "name": "stdout",
     "output_type": "stream",
     "text": [
      "Data from proxmox-eu-central-1.hcloud.io:8006 exported to sheet 'proxmox-FR2_8006'\n"
     ]
    },
    {
     "name": "stdout",
     "output_type": "stream",
     "text": [
      "Data from proxmox-lms-prd-eu-central-1.hcloud.io:8006 exported to sheet 'proxmox-lms-prd-FR2_8006'\n"
     ]
    },
    {
     "name": "stdout",
     "output_type": "stream",
     "text": [
      "Data from proxmox-lms-stg-eu-central-1.hcloud.io:8006 exported to sheet 'proxmox-lms-stg-FR2_8006'\n"
     ]
    },
    {
     "name": "stdout",
     "output_type": "stream",
     "text": [
      "Data from proxmox-eu-central-2.hcloud.io:8006 exported to sheet 'proxmox-FR7_8006'\n"
     ]
    },
    {
     "name": "stdout",
     "output_type": "stream",
     "text": [
      "Data from proxmox-lms-prd-eu-central-2.hcloud.io:8006 exported to sheet 'proxmox-lms-prd-FR7_8006'\n"
     ]
    },
    {
     "name": "stdout",
     "output_type": "stream",
     "text": [
      "Data from proxmox-lms-stg-eu-central-2.hcloud.io:8006 exported to sheet 'proxmox-lms-stg-FR7_8006'\n"
     ]
    }
   ],
   "source": [
    "# Excel writer 생성\n",
    "with pd.ExcelWriter(f\"C:\\\\Beomjun\\\\csv\\\\Proxmox\\\\proxmox_info_{current_date}.xlsx\") as writer:\n",
    "    for server in proxmox_servers:\n",
    "        proxmox = ProxmoxAPI(server['host'], user=server['user'], password=server['password'], verify_ssl=False)\n",
    "\n",
    "        cluster_resources = proxmox.cluster.resources.get(type='vm')\n",
    "        cluster_df = pd.DataFrame(cluster_resources)\n",
    "\n",
    "        vm_ip_list = []\n",
    "\n",
    "        for node in proxmox.nodes.get():\n",
    "            node_name = node['node']\n",
    "            vms = proxmox.nodes(node_name).qemu.get()\n",
    "\n",
    "            for vm in vms:\n",
    "                vmid = vm['vmid']\n",
    "                config = proxmox.nodes(node_name).qemu(vmid).config.get()\n",
    "                ipconfig = config.get('ipconfig0', None)\n",
    "\n",
    "                ip = None\n",
    "                if ipconfig:\n",
    "                    match = re.search(r'ip=([\\d.]+)', ipconfig)\n",
    "                    if match:\n",
    "                        ip = match.group(1)\n",
    "\n",
    "                vm_ip_list.append({\n",
    "                    'vmid': int(vmid),\n",
    "                    'cloud_init_ip': ip\n",
    "                })\n",
    "\n",
    "        ip_df = pd.DataFrame(vm_ip_list)\n",
    "\n",
    "        merged_df = pd.merge(cluster_df, ip_df, on='vmid', how='left')\n",
    "\n",
    "        merged_df['cpu'] = (merged_df['cpu'] * 100).round(2)\n",
    "        merged_df['mem'] = (merged_df['mem'] / (1024**3)).round(2)\n",
    "        merged_df['maxmem'] = (merged_df['maxmem'] / (1024**3)).round(2)\n",
    "        merged_df['maxdisk'] = (merged_df['maxdisk'] / (1024**3)).round(2)\n",
    "\n",
    "        merged_df['uptime'] = merged_df['uptime'].apply(format_uptime)\n",
    "\n",
    "        final_df = merged_df[['vmid', 'name', 'node', 'status', 'cloud_init_ip', \n",
    "                              'cpu', 'maxcpu', 'mem', 'maxmem', 'disk', 'maxdisk', 'uptime']]\n",
    "\n",
    "        # 각 서버별로 Excel Sheet 출력\n",
    "        sheet_name = format_sheet_name(server['host'])\n",
    "        final_df.to_excel(writer, sheet_name=sheet_name, index=False)\n",
    "\n",
    "        print(f\"Data from {server['host']} exported to sheet '{sheet_name}'\")"
   ]
  },
  {
   "cell_type": "markdown",
   "id": "726ffa52-7a3a-4130-87f5-84dae31d2f2f",
   "metadata": {},
   "source": [
    "## LB VIP 수량 변화 수집"
   ]
  },
  {
   "cell_type": "code",
   "execution_count": 31,
   "id": "dedcc440-8fc5-484b-abae-816f543d04b6",
   "metadata": {
    "execution": {
     "iopub.execute_input": "2025-05-27T13:57:17.852616Z",
     "iopub.status.busy": "2025-05-27T13:57:17.852616Z",
     "iopub.status.idle": "2025-05-27T13:57:17.879116Z",
     "shell.execute_reply": "2025-05-27T13:57:17.878601Z"
    }
   },
   "outputs": [
    {
     "name": "stdout",
     "output_type": "stream",
     "text": [
      "mapping info! {'172.28.7.8': 'FR2_Admin', '172.28.7.14': 'FR2_PRD-A', '172.28.7.20': 'FR2_PRD-B', '172.28.7.26': 'FR2_PRD-C', '172.28.7.32': 'FR2_PRD-D', '172.28.7.11': 'FR2_STG-A', '172.28.7.17': 'FR2_STG-B', '172.28.7.23': 'FR2_STG-C', '172.28.7.29': 'FR2_STG-D', '172.30.7.8': 'FR7_Admin', '172.30.7.14': 'FR7_PRD-A', '172.30.7.20': 'FR7_PRD-B', '172.30.7.26': 'FR7_PRD-C', '172.30.7.32': 'FR7_PRD-D', '172.30.7.11': 'FR7_STG-A', '172.30.7.17': 'FR7_STG-B', '172.30.7.23': 'FR7_STG-C', '172.30.7.29': 'FR7_STG-D'}\n"
     ]
    }
   ],
   "source": [
    "import requests\n",
    "import os\n",
    "import pandas as pd\n",
    "from dotenv import load_dotenv\n",
    "from datetime import datetime, timedelta\n",
    "import urllib3\n",
    "import subprocess\n",
    "from openpyxl import Workbook\n",
    "\n",
    "urllib3.disable_warnings(urllib3.exceptions.InsecureRequestWarning)\n",
    "\n",
    "# .env 로드\n",
    "load_dotenv(dotenv_path=\"config/ctrix.env\")\n",
    "\n",
    "# 환경변수 로드\n",
    "# IP 리스트 만들기\n",
    "NS_IPS_FR2 = os.getenv(\"NS_IPS_FR2\", \"\").split(\",\")\n",
    "NS_IPS_FR7 = os.getenv(\"NS_IPS_FR7\", \"\").split(\",\")\n",
    "\n",
    "# 각각 공백 제거\n",
    "ip_list_fr2 = [ip.strip() for ip in NS_IPS_FR2 if ip.strip()]\n",
    "ip_list_fr7 = [ip.strip() for ip in NS_IPS_FR7 if ip.strip()]\n",
    "\n",
    "NITRO_USERNAME = os.getenv(\"NITRO_USERNAME\")\n",
    "NITRO_PASSWORD = os.getenv(\"NITRO_PASSWORD\")\n",
    "HEADERS = {\"Content-Type\": \"application/json\"}\n",
    "VERIFY_SSL = False  # 자체서명 인증서 무시\n",
    "\n",
    "VPN_FR2_NAME = \"EU2-FR2\"\n",
    "VPN_FR7_NAME = \"EU2-FR7\"\n",
    "USERNAME = \"spark\"\n",
    "PASSWORD = \"tmvkzm1!\"\n",
    "\n",
    "# IP와 Tenant 매핑 로딩\n",
    "IP_TENANT_MAPPING = {}\n",
    "tenant_mapping_fr2 = os.getenv(\"TENANT_MAPPING_FR2\", \"\")\n",
    "tenant_mapping_fr7 = os.getenv(\"TENANT_MAPPING_FR7\", \"\")\n",
    "\n",
    "for item in tenant_mapping_fr2.split(\",\"):\n",
    "    if \":\" in item:\n",
    "        ip, tenant = item.split(\":\")\n",
    "        IP_TENANT_MAPPING[ip.strip()] = tenant.strip()\n",
    "\n",
    "for item in tenant_mapping_fr7.split(\",\"):\n",
    "    if \":\" in item:\n",
    "        ip, tenant = item.split(\":\")\n",
    "        IP_TENANT_MAPPING[ip.strip()] = tenant.strip()\n",
    "\n",
    "print(\"mapping info!\", IP_TENANT_MAPPING)"
   ]
  },
  {
   "cell_type": "code",
   "execution_count": 32,
   "id": "b98b30e9-8408-4006-bcb6-910611220987",
   "metadata": {
    "execution": {
     "iopub.execute_input": "2025-05-27T13:57:17.883096Z",
     "iopub.status.busy": "2025-05-27T13:57:17.882099Z",
     "iopub.status.idle": "2025-05-27T13:57:17.895058Z",
     "shell.execute_reply": "2025-05-27T13:57:17.894059Z"
    }
   },
   "outputs": [],
   "source": [
    "# VPN 관련 함수\n",
    "def is_vpn_connected(vpn_name):\n",
    "    result = subprocess.run(['rasdial'], capture_output=True, text=True)\n",
    "    return vpn_name.lower() in result.stdout.lower()\n",
    "\n",
    "def connect_vpn(vpn_name, username, password):\n",
    "    print(f\"[INFO] Connecting to VPN: {vpn_name}\")\n",
    "    subprocess.run(['rasdial', vpn_name, username, password])\n",
    "\n",
    "def disconnect_vpn(vpn_name):\n",
    "    print(f\"[INFO] Disconnecting VPN: {vpn_name}\")\n",
    "    subprocess.run(['rasdial', vpn_name, '/disconnect'])\n",
    "\n",
    "# Citrix API 함수\n",
    "def login(session, base_url):\n",
    "    url = f\"{base_url}/config/login\"\n",
    "    payload = {\"login\": {\"username\": NITRO_USERNAME, \"password\": NITRO_PASSWORD}}\n",
    "    response = session.post(url, json=payload, headers=HEADERS)\n",
    "    response.raise_for_status()\n",
    "\n",
    "def get_lb_vips(session, base_url):\n",
    "    url = f\"{base_url}/config/lbvserver\"\n",
    "    response = session.get(url, headers=HEADERS)\n",
    "    response.raise_for_status()\n",
    "    lb_list = response.json().get(\"lbvserver\", [])\n",
    "    return lb_list\n",
    "\n",
    "def logout(session, base_url):\n",
    "    url = f\"{base_url}/config/logout\"\n",
    "    payload = {\"logout\": {}}\n",
    "    session.post(url, json=payload, headers=HEADERS)"
   ]
  },
  {
   "cell_type": "code",
   "execution_count": 33,
   "id": "3bcefa4a-0aae-4410-81c7-d76b28b3e228",
   "metadata": {
    "execution": {
     "iopub.execute_input": "2025-05-27T13:57:17.899045Z",
     "iopub.status.busy": "2025-05-27T13:57:17.899045Z",
     "iopub.status.idle": "2025-05-27T13:57:17.909012Z",
     "shell.execute_reply": "2025-05-27T13:57:17.909012Z"
    }
   },
   "outputs": [],
   "source": [
    "# LB 수집 함수\n",
    "def collect_lb_info(region, vpn_name, ip_list):\n",
    "    if is_vpn_connected(vpn_name):\n",
    "        print(f\"[INFO] VPN {vpn_name} is already connected.\")\n",
    "    else:\n",
    "        print(f\"[INFO] VPN {vpn_name} not connected. Attempting connection...\")\n",
    "        connect_vpn(vpn_name, USERNAME, PASSWORD)\n",
    "\n",
    "    lb_data = []\n",
    "    for ip in ip_list:\n",
    "        tenant = IP_TENANT_MAPPING.get(ip, \"UNKNOWN\")\n",
    "        print(f\"[INFO] Collecting LB info from {tenant} ({ip})\")\n",
    "        base_url = f\"https://{ip}/nitro/v1\"\n",
    "        session = requests.Session()\n",
    "        session.verify = VERIFY_SSL\n",
    "\n",
    "        try:\n",
    "            login(session, base_url)\n",
    "            lb_list = get_lb_vips(session, base_url)\n",
    "\n",
    "            for lb in lb_list:\n",
    "                lb_name = lb.get('name')\n",
    "                lb_ip = lb.get('ipv46')\n",
    "                lb_port = lb.get('port')\n",
    "                service_type = lb.get('servicetype')\n",
    "                \n",
    "                if lb_ip == \"0.0.0.0\":\n",
    "                    continue\n",
    "                \n",
    "                lb_data.append([tenant, ip, lb_name, lb_ip, lb_port, service_type])\n",
    "\n",
    "        except requests.RequestException as e:\n",
    "            print(f\"❌ 오류 발생 ({ip}):\", e)\n",
    "\n",
    "        finally:\n",
    "            logout(session, base_url)\n",
    "\n",
    "    disconnect_vpn(vpn_name)\n",
    "    \n",
    "    return lb_data  # ✅ DataFrame이 아닌 리스트 반환\n"
   ]
  },
  {
   "cell_type": "code",
   "execution_count": 34,
   "id": "8b9f66df-e989-4d82-b937-fbf9d05646ef",
   "metadata": {
    "execution": {
     "iopub.execute_input": "2025-05-27T13:57:17.912999Z",
     "iopub.status.busy": "2025-05-27T13:57:17.912002Z",
     "iopub.status.idle": "2025-05-27T13:57:17.924965Z",
     "shell.execute_reply": "2025-05-27T13:57:17.923969Z"
    }
   },
   "outputs": [],
   "source": [
    "def compare_yesterday():\n",
    "    # 날짜 설정\n",
    "    current_date = datetime.now().strftime(\"%Y%m%d\")\n",
    "    yesterday_date = (datetime.now() - timedelta(days=1)).strftime(\"%Y%m%d\")\n",
    "    \n",
    "    print(\"today:\", current_date)\n",
    "    print(\"yesterday:\", yesterday_date)\n",
    "    \n",
    "    # 경로 설정\n",
    "    today_path = f\"C:\\\\Beomjun\\\\csv\\\\LB\\\\lb_info_{current_date}.ods\"\n",
    "    yesterday_path = f\"C:\\\\Beomjun\\\\csv\\\\LB\\\\lb_info_{yesterday_date}.ods\"\n",
    "    \n",
    "    # file_path=os.path.abspath(\"\")\n",
    "    # srcpath = findfile(f\"eu_adminrc_{yesterday_date}.csv.org\", file_path)\n",
    "    # dir, file = os.path.split(srcpath)\n",
    "    # shutil.copy2(srcpath, dir+f\"\\eu_adminrc_{yesterday_date}.csv\")\n",
    "        \n",
    "    # CSV 로드\n",
    "    df_today = pd.read_excel(today_path, engine='odf')\n",
    "    df_yesterday = pd.read_excel(yesterday_path, engine='odf')\n",
    "    \n",
    "    # ID 기준으로 차집합 연산\n",
    "    today_ids = set(df_today['LB_Name'])\n",
    "    yesterday_ids = set(df_yesterday['LB_Name'])\n",
    "    \n",
    "    # 추가된 VM: 오늘에는 있고 어제는 없던 것\n",
    "    added_ids = today_ids - yesterday_ids\n",
    "    df_added = df_today[df_today['LB_Name'].isin(added_ids)]\n",
    "    \n",
    "    # 삭제된 VM: 어제는 있었는데 오늘은 없는 것\n",
    "    deleted_ids = yesterday_ids - today_ids\n",
    "    df_deleted = df_yesterday[df_yesterday['LB_Name'].isin(deleted_ids)]\n",
    "    \n",
    "    # 결과 출력\n",
    "    print(\"\\n✅ 오늘 추가된 VM:\")\n",
    "    print(df_added)\n",
    "    \n",
    "    print(\"\\n❌ 오늘 삭제된 VM:\")\n",
    "    print(df_deleted)\n",
    "\n",
    "    return df_added, df_deleted\n"
   ]
  },
  {
   "cell_type": "code",
   "execution_count": 35,
   "id": "bc26536e-b128-4fc0-96d9-b16789bf3873",
   "metadata": {
    "execution": {
     "iopub.execute_input": "2025-05-27T13:57:17.927954Z",
     "iopub.status.busy": "2025-05-27T13:57:17.927954Z",
     "iopub.status.idle": "2025-05-27T13:57:17.938918Z",
     "shell.execute_reply": "2025-05-27T13:57:17.938918Z"
    }
   },
   "outputs": [],
   "source": [
    "def add_document(df_today, df_added, df_deleted):\n",
    "    document.add_heading('LB 현황', level=1) \n",
    "    total = len(df_today)\n",
    "    \n",
    "    document.add_paragraph(f'총 {total}건', style='List Bullet')\n",
    "\n",
    "    # Pivoting\n",
    "    df = preprocess_df_LB(df_today)\n",
    "    # pivot, total = getPivotTable(df, month)\n",
    "    \n",
    "    # Chart - Pie 차트\n",
    "    region_pivot, _ = getPivotTable_new(df, 'Tenant')\n",
    "    # tenant_pivot, _ = getPivotTable_new(df, 'Tenant')\n",
    "    \n",
    "    source1 = region_pivot\n",
    "    # source2 = tenant_pivot\n",
    "    \n",
    "    print(source1)\n",
    "    # print(source2)\n",
    "    \n",
    "    # Chart\n",
    "    # if incompleted == 0:\n",
    "    chart1 = getPieChart_tenant(source1)\n",
    "    # chart2 = getPieChart_tenant(source2)\n",
    "    # else:\n",
    "    #     source = flatten_2d(data)\n",
    "    #     chart = getStackedHBarChart(source)    \n",
    "    \n",
    "    # source = pivot\n",
    "    # if incompleted == 0:\n",
    "    #     chart = getPieChart(source)\n",
    "    # else:\n",
    "    #     chart = getStackedHBarChart1(source)\n",
    "    chart1.save(f'./charts/LB_1.png')\n",
    "    # chart2.save(f'./charts/vm_2.png')\n",
    "\n",
    "    # p = document.add_paragraph('')\n",
    "    # run = p.add_run()\n",
    "    # run.add_break(WD_BREAK.LINE)\n",
    "    \n",
    "    table = document.add_table(rows=1, cols=1)\n",
    "    cell = table.rows[0].cells[0]\n",
    "    paragraph = cell.paragraphs[0]\n",
    "    paragraph.alignment = WD_ALIGN_PARAGRAPH.CENTER  # 수평 중앙 정렬\n",
    "    run = paragraph.add_run(\"테넌트별\")\n",
    "    run.font.size = Pt(12)  # 폰트 크기 조절 (선택)\n",
    "    run.bold = True  # 굵게 (선택)\n",
    "    \n",
    "    # 이미지 추가 (별도 문단 생성하여 아래로 정렬되게)\n",
    "    paragraph_img = cell.add_paragraph()\n",
    "    paragraph_img.alignment = WD_ALIGN_PARAGRAPH.CENTER\n",
    "    run_img = paragraph_img.add_run()\n",
    "    run.add_picture(f'./charts/LB_1.png')\n",
    "    # run.add_picture(f'./charts/LB_1.png', width=Inches(3.3))\n",
    "    \n",
    "    # Document\n",
    "    document.add_paragraph(f'전일 대비 추가된 LB({len(df_added)}건)', style='List Bullet')\n",
    "    \n",
    "    if len(df_added) == 0:\n",
    "        pass\n",
    "    else:\n",
    "        addTable_LB(df_added)\n",
    "        \n",
    "    p = document.add_paragraph('')\n",
    "    run = p.add_run()\n",
    "    run.add_break(WD_BREAK.LINE)\n",
    "    \n",
    "    document.add_paragraph(f'전일 대비 삭제된 LB({len(df_deleted)}건)', style='List Bullet')\n",
    "    # A-B (삭제된 건)\n",
    "    # df_result_sub = pd.concat([df_premonth,df_curmonth,df_curmonth]).drop_duplicates(keep=False)\n",
    "    # print(df_result_sub)\n",
    "    \n",
    "    if len(df_deleted) == 0:\n",
    "        pass\n",
    "    else:\n",
    "        addTable_LB(df_deleted)\n",
    "\n",
    "    document.save(f'C:\\\\Beomjun\\\\csv\\\\total_report_{current_date}.docx')"
   ]
  },
  {
   "cell_type": "code",
   "execution_count": 36,
   "id": "1975193a-3e62-4d37-9e63-15fa77b0210b",
   "metadata": {
    "execution": {
     "iopub.execute_input": "2025-05-27T13:57:17.942905Z",
     "iopub.status.busy": "2025-05-27T13:57:17.942905Z",
     "iopub.status.idle": "2025-05-27T13:57:36.989391Z",
     "shell.execute_reply": "2025-05-27T13:57:36.987400Z"
    }
   },
   "outputs": [
    {
     "name": "stdout",
     "output_type": "stream",
     "text": [
      "[INFO] Starting collection for FR2\n"
     ]
    },
    {
     "name": "stdout",
     "output_type": "stream",
     "text": [
      "[INFO] VPN EU2-FR2 is already connected.\n",
      "[INFO] Collecting LB info from FR2_Admin (172.28.7.8)\n"
     ]
    },
    {
     "name": "stdout",
     "output_type": "stream",
     "text": [
      "[INFO] Collecting LB info from FR2_PRD-A (172.28.7.14)\n"
     ]
    },
    {
     "name": "stdout",
     "output_type": "stream",
     "text": [
      "[INFO] Collecting LB info from FR2_PRD-B (172.28.7.20)\n",
      "[INFO] Collecting LB info from FR2_PRD-C (172.28.7.26)\n"
     ]
    },
    {
     "name": "stdout",
     "output_type": "stream",
     "text": [
      "[INFO] Collecting LB info from FR2_PRD-D (172.28.7.32)\n",
      "[INFO] Collecting LB info from FR2_STG-A (172.28.7.11)\n"
     ]
    },
    {
     "name": "stdout",
     "output_type": "stream",
     "text": [
      "[INFO] Collecting LB info from FR2_STG-B (172.28.7.17)\n",
      "[INFO] Collecting LB info from FR2_STG-C (172.28.7.23)\n"
     ]
    },
    {
     "name": "stdout",
     "output_type": "stream",
     "text": [
      "[INFO] Collecting LB info from FR2_STG-D (172.28.7.29)\n",
      "[INFO] Disconnecting VPN: EU2-FR2\n"
     ]
    },
    {
     "name": "stdout",
     "output_type": "stream",
     "text": [
      "[INFO] Starting collection for FR7\n"
     ]
    },
    {
     "name": "stdout",
     "output_type": "stream",
     "text": [
      "[INFO] VPN EU2-FR7 not connected. Attempting connection...\n",
      "[INFO] Connecting to VPN: EU2-FR7\n"
     ]
    },
    {
     "name": "stdout",
     "output_type": "stream",
     "text": [
      "[INFO] Collecting LB info from FR7_Admin (172.30.7.8)\n"
     ]
    },
    {
     "name": "stdout",
     "output_type": "stream",
     "text": [
      "[INFO] Collecting LB info from FR7_PRD-A (172.30.7.14)\n"
     ]
    },
    {
     "name": "stdout",
     "output_type": "stream",
     "text": [
      "[INFO] Collecting LB info from FR7_PRD-B (172.30.7.20)\n",
      "[INFO] Collecting LB info from FR7_PRD-C (172.30.7.26)\n"
     ]
    },
    {
     "name": "stdout",
     "output_type": "stream",
     "text": [
      "[INFO] Collecting LB info from FR7_PRD-D (172.30.7.32)\n",
      "[INFO] Collecting LB info from FR7_STG-A (172.30.7.11)\n"
     ]
    },
    {
     "name": "stdout",
     "output_type": "stream",
     "text": [
      "[INFO] Collecting LB info from FR7_STG-B (172.30.7.17)\n",
      "[INFO] Collecting LB info from FR7_STG-C (172.30.7.23)\n"
     ]
    },
    {
     "name": "stdout",
     "output_type": "stream",
     "text": [
      "[INFO] Collecting LB info from FR7_STG-D (172.30.7.29)\n",
      "[INFO] Disconnecting VPN: EU2-FR7\n"
     ]
    },
    {
     "name": "stdout",
     "output_type": "stream",
     "text": [
      "today: 20250527\n",
      "yesterday: 20250526\n"
     ]
    },
    {
     "name": "stdout",
     "output_type": "stream",
     "text": [
      "\n",
      "✅ 오늘 추가된 VM:\n",
      "Empty DataFrame\n",
      "Columns: [Tenant, NS_IP, LB_Name, LB_VIP, Port, Service_Type]\n",
      "Index: []\n",
      "\n",
      "❌ 오늘 삭제된 VM:\n",
      "Empty DataFrame\n",
      "Columns: [Tenant, NS_IP, LB_Name, LB_VIP, Port, Service_Type]\n",
      "Index: []\n",
      "  Tenant    합계    비중\n",
      "0    FR2  1116  50.0\n",
      "1    FR7  1115  50.0\n"
     ]
    },
    {
     "name": "stdout",
     "output_type": "stream",
     "text": [
      "\n",
      "✅ ODS 파일이 생성되었습니다: C:\\Beomjun\\csv\\LB\\lb_info_20250527.ods\n"
     ]
    }
   ],
   "source": [
    "# 최종 실행\n",
    "if __name__ == \"__main__\":\n",
    "    current_date = datetime.now().strftime(\"%Y%m%d\")\n",
    "    ods_file = f\"C:\\\\Beomjun\\\\csv\\\\LB\\\\lb_info_{current_date}.ods\"\n",
    "\n",
    "    print(\"[INFO] Starting collection for FR2\")\n",
    "    fr2_data = collect_lb_info(\"FR2\", VPN_FR2_NAME, ip_list_fr2)\n",
    "\n",
    "    print(\"[INFO] Starting collection for FR7\")\n",
    "    fr7_data = collect_lb_info(\"FR7\", VPN_FR7_NAME, ip_list_fr7)\n",
    "\n",
    "    # ✅ 데이터 병합\n",
    "    combined_data = fr2_data + fr7_data\n",
    "    columns = [\"Tenant\", \"NS_IP\", \"LB_Name\", \"LB_VIP\", \"Port\", \"Service_Type\"]\n",
    "    df_combined = pd.DataFrame(combined_data, columns=columns)\n",
    "\n",
    "    # # ✅ ODS 파일 저장\n",
    "    with pd.ExcelWriter(ods_file, engine='odf') as writer:\n",
    "        df_combined.to_excel(writer, sheet_name=\"LB_Info\", index=False)\n",
    "\n",
    "    df_added, df_deleted = compare_yesterday()\n",
    "    add_document(df_combined, df_added, df_deleted)\n",
    "    \n",
    "    print(f\"\\n✅ ODS 파일이 생성되었습니다: {ods_file}\")"
   ]
  },
  {
   "cell_type": "code",
   "execution_count": null,
   "id": "6c21b780-0729-41e0-946e-3b0bd5c73a1b",
   "metadata": {},
   "outputs": [],
   "source": []
  },
  {
   "cell_type": "code",
   "execution_count": null,
   "id": "5d49b2f6-65aa-492e-8634-6b717c3edff6",
   "metadata": {},
   "outputs": [],
   "source": []
  }
 ],
 "metadata": {
  "kernelspec": {
   "display_name": "Python 3 (ipykernel)",
   "language": "python",
   "name": "python3"
  },
  "language_info": {
   "codemirror_mode": {
    "name": "ipython",
    "version": 3
   },
   "file_extension": ".py",
   "mimetype": "text/x-python",
   "name": "python",
   "nbconvert_exporter": "python",
   "pygments_lexer": "ipython3",
   "version": "3.10.5"
  }
 },
 "nbformat": 4,
 "nbformat_minor": 5
}
